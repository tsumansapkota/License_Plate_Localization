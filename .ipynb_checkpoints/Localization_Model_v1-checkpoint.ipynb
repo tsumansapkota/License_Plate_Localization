{
 "cells": [
  {
   "cell_type": "markdown",
   "metadata": {
    "colab_type": "text",
    "id": "5Nbz2xj6UT42"
   },
   "source": [
    "On final dataset, using only labeled images ; Resnet18 -> Linear -> LeakyRelu -> Linear\n",
    "\n"
   ]
  },
  {
   "cell_type": "code",
   "execution_count": 1,
   "metadata": {
    "colab": {},
    "colab_type": "code",
    "id": "_FsPlBygKHxW"
   },
   "outputs": [],
   "source": [
    "import numpy as np\n",
    "import pandas as pd\n",
    "import torch\n",
    "import torch.nn as nn\n",
    "import torch.nn.functional as F\n",
    "import matplotlib.pyplot as plt\n",
    "%matplotlib inline\n",
    "\n",
    "from torch.utils.data import Dataset\n",
    "from torch.optim import lr_scheduler\n",
    "from torchvision import datasets, models, transforms\n",
    "from PIL import Image\n",
    "import random\n",
    "import cv2\n",
    "import progressbar\n",
    "import time\n",
    "import os"
   ]
  },
  {
   "cell_type": "code",
   "execution_count": 3,
   "metadata": {
    "colab": {
     "base_uri": "https://localhost:8080/",
     "height": 153
    },
    "colab_type": "code",
    "id": "1RC2tw5lKHxb",
    "outputId": "6ad997aa-b34c-4b3d-90db-269b1476fac6"
   },
   "outputs": [
    {
     "name": "stdout",
     "output_type": "stream",
     "text": [
      "<class 'pandas.core.frame.DataFrame'>\n",
      "RangeIndex: 8090 entries, 0 to 8089\n",
      "Data columns (total 3 columns):\n",
      "image      8090 non-null object\n",
      "points     8090 non-null object\n",
      "labeled    8090 non-null int64\n",
      "dtypes: int64(1), object(2)\n",
      "memory usage: 189.7+ KB\n"
     ]
    }
   ],
   "source": [
    "df = pd.read_pickle(\"data/dataset.pkl\")\n",
    "df.info()"
   ]
  },
  {
   "cell_type": "code",
   "execution_count": 4,
   "metadata": {
    "colab": {
     "base_uri": "https://localhost:8080/",
     "height": 204
    },
    "colab_type": "code",
    "id": "GjxrbTL_FxuN",
    "outputId": "ad073d6d-0ac5-439c-ba78-e863b56520cd"
   },
   "outputs": [
    {
     "data": {
      "text/html": [
       "<div>\n",
       "<style scoped>\n",
       "    .dataframe tbody tr th:only-of-type {\n",
       "        vertical-align: middle;\n",
       "    }\n",
       "\n",
       "    .dataframe tbody tr th {\n",
       "        vertical-align: top;\n",
       "    }\n",
       "\n",
       "    .dataframe thead th {\n",
       "        text-align: right;\n",
       "    }\n",
       "</style>\n",
       "<table border=\"1\" class=\"dataframe\">\n",
       "  <thead>\n",
       "    <tr style=\"text-align: right;\">\n",
       "      <th></th>\n",
       "      <th>image</th>\n",
       "      <th>points</th>\n",
       "      <th>labeled</th>\n",
       "    </tr>\n",
       "  </thead>\n",
       "  <tbody>\n",
       "    <tr>\n",
       "      <th>0</th>\n",
       "      <td>data/dactar/1300_img.png</td>\n",
       "      <td>[177.16228095049055, 184.83182101741053, 244.7...</td>\n",
       "      <td>1</td>\n",
       "    </tr>\n",
       "    <tr>\n",
       "      <th>1</th>\n",
       "      <td>data/dactar/1766_img.png</td>\n",
       "      <td>[409.7109787838158, 362.74050003943523, 536.55...</td>\n",
       "      <td>1</td>\n",
       "    </tr>\n",
       "    <tr>\n",
       "      <th>2</th>\n",
       "      <td>data/dactar/130_img.png</td>\n",
       "      <td>[386.66894459252546, 342.1963080587535, 503.59...</td>\n",
       "      <td>1</td>\n",
       "    </tr>\n",
       "    <tr>\n",
       "      <th>3</th>\n",
       "      <td>data/dactar/1785_img.png</td>\n",
       "      <td>[197.75577726950075, 171.98786970581278, 250.1...</td>\n",
       "      <td>1</td>\n",
       "    </tr>\n",
       "    <tr>\n",
       "      <th>4</th>\n",
       "      <td>data/dactar/617_img.png</td>\n",
       "      <td>[180.14505945291972, 298.14972872833135, 288.5...</td>\n",
       "      <td>1</td>\n",
       "    </tr>\n",
       "  </tbody>\n",
       "</table>\n",
       "</div>"
      ],
      "text/plain": [
       "                      image  \\\n",
       "0  data/dactar/1300_img.png   \n",
       "1  data/dactar/1766_img.png   \n",
       "2   data/dactar/130_img.png   \n",
       "3  data/dactar/1785_img.png   \n",
       "4   data/dactar/617_img.png   \n",
       "\n",
       "                                              points  labeled  \n",
       "0  [177.16228095049055, 184.83182101741053, 244.7...        1  \n",
       "1  [409.7109787838158, 362.74050003943523, 536.55...        1  \n",
       "2  [386.66894459252546, 342.1963080587535, 503.59...        1  \n",
       "3  [197.75577726950075, 171.98786970581278, 250.1...        1  \n",
       "4  [180.14505945291972, 298.14972872833135, 288.5...        1  "
      ]
     },
     "execution_count": 4,
     "metadata": {},
     "output_type": "execute_result"
    }
   ],
   "source": [
    "df.head()"
   ]
  },
  {
   "cell_type": "code",
   "execution_count": 5,
   "metadata": {
    "colab": {
     "base_uri": "https://localhost:8080/",
     "height": 153
    },
    "colab_type": "code",
    "id": "FZ5asiMGFzvo",
    "outputId": "c22bd406-cdb3-4a01-ae66-37f804aba3ab"
   },
   "outputs": [
    {
     "name": "stdout",
     "output_type": "stream",
     "text": [
      "<class 'pandas.core.frame.DataFrame'>\n",
      "Int64Index: 5576 entries, 0 to 7440\n",
      "Data columns (total 3 columns):\n",
      "image      5576 non-null object\n",
      "points     5576 non-null object\n",
      "labeled    5576 non-null int64\n",
      "dtypes: int64(1), object(2)\n",
      "memory usage: 174.2+ KB\n"
     ]
    }
   ],
   "source": [
    "todrop = []\n",
    "for i in range(len(df)):\n",
    "  if df.iloc[i].labeled == 0:\n",
    "    todrop.append(i)\n",
    "df = df.drop(index=todrop)\n",
    "df.info()"
   ]
  },
  {
   "cell_type": "code",
   "execution_count": 6,
   "metadata": {
    "colab": {
     "base_uri": "https://localhost:8080/",
     "height": 136
    },
    "colab_type": "code",
    "id": "KXUL_4UwGSfj",
    "outputId": "993e335c-949e-4dd5-dab3-8fc8c2a6ea28"
   },
   "outputs": [
    {
     "name": "stdout",
     "output_type": "stream",
     "text": [
      "<class 'pandas.core.frame.DataFrame'>\n",
      "RangeIndex: 5576 entries, 0 to 5575\n",
      "Data columns (total 2 columns):\n",
      "image     5576 non-null object\n",
      "points    5576 non-null object\n",
      "dtypes: object(2)\n",
      "memory usage: 87.2+ KB\n"
     ]
    }
   ],
   "source": [
    "df = df.drop(columns=['labeled'])\n",
    "df = df.reset_index(drop=True)\n",
    "df.info()"
   ]
  },
  {
   "cell_type": "markdown",
   "metadata": {
    "colab_type": "text",
    "id": "INMko7t7KHxk"
   },
   "source": [
    "### Utilities"
   ]
  },
  {
   "cell_type": "code",
   "execution_count": 7,
   "metadata": {
    "colab": {},
    "colab_type": "code",
    "id": "3TywrFzPKHxl"
   },
   "outputs": [],
   "source": [
    "class AverageMeter(object):\n",
    "    def __init__(self):\n",
    "        self.reset()\n",
    "        \n",
    "    def reset(self):\n",
    "        self.val = 0\n",
    "        self.avg = 0\n",
    "        self.sum = 0\n",
    "        self.cnt = 0\n",
    "        \n",
    "    def update(self, val, n=1):\n",
    "        self.val = val\n",
    "        self.sum += val * n\n",
    "        self.cnt += n\n",
    "        self.avg = self.sum / self.cnt"
   ]
  },
  {
   "cell_type": "markdown",
   "metadata": {
    "colab_type": "text",
    "id": "5-mKB_zRKHxo"
   },
   "source": [
    "### Image Transform"
   ]
  },
  {
   "cell_type": "code",
   "execution_count": 8,
   "metadata": {
    "colab": {},
    "colab_type": "code",
    "id": "3Xe7PAzKKHxo"
   },
   "outputs": [],
   "source": [
    "class ResizeAspect(object):\n",
    "    def __init__(self, h, w):\n",
    "        self.rescale_factor=None\n",
    "        self.shift_w=None\n",
    "        self.shift_h=None\n",
    "        self.hw = (h, w)\n",
    "        \n",
    "    def do_image(self,img):\n",
    "        h, w = self.hw\n",
    "        img_h, img_w = img.shape[0], img.shape[1]\n",
    "        rescale_factor = min(w/img_w, h/img_h)\n",
    "        new_w = int(img_w * rescale_factor)\n",
    "        new_h = int(img_h * rescale_factor)\n",
    "        resized_image = cv2.resize(img, (new_w,new_h), interpolation = cv2.INTER_CUBIC)\n",
    "\n",
    "        canvas = np.full((h, w, 3), 128, dtype=np.uint8)\n",
    "        shift_h = (h-new_h)//2\n",
    "        shift_w = (w-new_w)//2\n",
    "        canvas[(h-new_h)//2:(h-new_h)//2 + new_h,(w-new_w)//2:(w-new_w)//2 + new_w,  :] = resized_image\n",
    "        img = canvas.copy()\n",
    "        self.rescale_factor=rescale_factor\n",
    "        self.shift_h = shift_h\n",
    "        self.shift_w = shift_w\n",
    "        return img\n",
    "    \n",
    "    def do_box(self, box):\n",
    "#         if self.rescale_factor is None:\n",
    "#             print('The image is not scaled, do_image first!!')\n",
    "#             return\n",
    "        box = box.reshape(-1,2)\n",
    "        box *=self.rescale_factor\n",
    "        box[: ,0] += self.shift_w\n",
    "        box[: ,1] += self.shift_h\n",
    "        box = box.reshape(-1)\n",
    "        return box\n",
    "    \n",
    "    def undo_box(self, box):\n",
    "        box = box.reshape(-1,2)\n",
    "        box[: ,0] -= self.shift_w\n",
    "        box[: ,1] -= self.shift_h\n",
    "        box /=self.rescale_factor\n",
    "        box = box.reshape(-1)\n",
    "        return box"
   ]
  },
  {
   "cell_type": "code",
   "execution_count": 9,
   "metadata": {
    "colab": {},
    "colab_type": "code",
    "id": "9szOaV5wKHxs"
   },
   "outputs": [],
   "source": [
    "class FinalTransform:\n",
    "    def __init__(self):\n",
    "        self.transform = transforms.Compose([\n",
    "            transforms.ToTensor(),\n",
    "            transforms.Normalize(mean=[0.485, 0.456, 0.406],\n",
    "                                 std=[0.229, 0.224, 0.225])])\n",
    "    \n",
    "    def transform_inv(self,img):\n",
    "        inp = img.numpy().transpose((1, 2, 0))\n",
    "        mean = np.array([0.485, 0.456, 0.406])\n",
    "        std = np.array([0.229, 0.224, 0.225])\n",
    "        inp = std * inp + mean\n",
    "        inp = np.clip(inp, 0, 1)\n",
    "        return inp"
   ]
  },
  {
   "cell_type": "markdown",
   "metadata": {
    "colab_type": "text",
    "id": "niEfDCspKHxv"
   },
   "source": [
    "### Dataset Loader"
   ]
  },
  {
   "cell_type": "code",
   "execution_count": 10,
   "metadata": {
    "colab": {},
    "colab_type": "code",
    "id": "Jsd-VuCkKHxv"
   },
   "outputs": [],
   "source": [
    "class LicenseDataset(Dataset):\n",
    "    def __init__(self, df):\n",
    "        \n",
    "        self.imgs = list(df.image)\n",
    "        self.boxes = df.points.tolist()\n",
    "#         self.labeled = df.labeled.tolist()\n",
    "        self.final_transform = FinalTransform()\n",
    "        self.transform = self.final_transform.transform\n",
    "#         self.transform = transforms.Compose([\n",
    "# #                 transforms.Resize((224, 224)),\n",
    "#             transforms.ToTensor(),\n",
    "#             transforms.Normalize(mean=[0.485, 0.456, 0.406],\n",
    "#                                  std=[0.229, 0.224, 0.225])\n",
    "#         ])\n",
    "        \n",
    "    def transform_inv(self,img):\n",
    "        inp = img.numpy().transpose((1, 2, 0))\n",
    "        mean = np.array([0.485, 0.456, 0.406])\n",
    "        std = np.array([0.229, 0.224, 0.225])\n",
    "        inp = std * inp + mean\n",
    "        inp = np.clip(inp, 0, 1)\n",
    "        return inp\n",
    "            \n",
    "    def __getitem__(self, index):\n",
    "        path= self.imgs[index]\n",
    "        box = self.boxes[index]\n",
    "        \n",
    "        img = Image.open(path).convert('RGB')\n",
    "        resizer = ResizeAspect(h=224, w=224)\n",
    "        img = resizer.do_image(np.array(img))\n",
    "        img = self.final_transform.transform(img)\n",
    "        box = resizer.do_box(box)\n",
    "        box = np.array(box, dtype=np.float32)\n",
    "        \n",
    "#         return img, box , resizer\n",
    "        return img, box\n",
    "      \n",
    "    \n",
    "    def __len__(self):\n",
    "        return len(self.imgs)"
   ]
  },
  {
   "cell_type": "code",
   "execution_count": 11,
   "metadata": {
    "colab": {},
    "colab_type": "code",
    "id": "YI_je_5WKHx0"
   },
   "outputs": [],
   "source": [
    "def train_test_split(df, test_size=0.1):\n",
    "    if isinstance(test_size, float):\n",
    "        test_size = int(test_size * len(df))\n",
    "\n",
    "    indices = df.index.tolist()\n",
    "    test_indices = random.sample(population=indices, k=test_size)\n",
    "\n",
    "    test_df = df.loc[test_indices]\n",
    "    train_df = df.drop(test_indices)\n",
    "    return train_df, test_df"
   ]
  },
  {
   "cell_type": "code",
   "execution_count": 12,
   "metadata": {
    "colab": {},
    "colab_type": "code",
    "id": "ElXaECDIKHx6"
   },
   "outputs": [],
   "source": [
    "train_df, test_df = train_test_split(df, test_size=0.1)"
   ]
  },
  {
   "cell_type": "code",
   "execution_count": 13,
   "metadata": {
    "colab": {},
    "colab_type": "code",
    "id": "Q__KgwU1KHyB"
   },
   "outputs": [],
   "source": [
    "train = LicenseDataset(train_df)\n",
    "test = LicenseDataset(test_df)"
   ]
  },
  {
   "cell_type": "code",
   "execution_count": 14,
   "metadata": {
    "colab": {},
    "colab_type": "code",
    "id": "KV6BKiTGKHyF"
   },
   "outputs": [],
   "source": [
    "# ind = random.choice(range(len(train_df)))\n",
    "# img, box, img_size = train[ind]\n",
    "\n",
    "# box = np.append(box, box[:2]).reshape(-1,2)\n",
    "# img = train.final_transform.transform_inv(img)\n",
    "\n",
    "# plt.imshow(img)\n",
    "# plt.plot(box[:,0], box[:,1], lw=3, c='g')"
   ]
  },
  {
   "cell_type": "code",
   "execution_count": 15,
   "metadata": {
    "colab": {},
    "colab_type": "code",
    "id": "jKrQ6UJlKHyI"
   },
   "outputs": [],
   "source": [
    "train_loader = torch.utils.data.DataLoader(\n",
    "                train, batch_size=32,shuffle=True,\n",
    "                num_workers=4, pin_memory=True)\n",
    "test_loader = torch.utils.data.DataLoader(\n",
    "                test, batch_size=32,shuffle=False,\n",
    "                num_workers=2, pin_memory=True)"
   ]
  },
  {
   "cell_type": "markdown",
   "metadata": {
    "colab_type": "text",
    "id": "LpduTwnOKHyL"
   },
   "source": [
    "### Defining Model"
   ]
  },
  {
   "cell_type": "code",
   "execution_count": 0,
   "metadata": {
    "colab": {},
    "colab_type": "code",
    "id": "48sFrjXrKHyL"
   },
   "outputs": [],
   "source": [
    "model = models.resnet18(pretrained=True)\n",
    "'''\n",
    "output of our model is :\n",
    "x1, y1,\n",
    "x2, y2,\n",
    "x3, y3,\n",
    "x4, y4,\n",
    "conf -> only when no bounding box images are taken\n",
    "'''\n",
    "num_feature = model.fc.in_features\n",
    "num_hidden = 370\n",
    "num_output = 8#9\n",
    "model.fc = nn.Sequential(nn.Linear(num_feature, num_hidden),\n",
    "                         nn.LeakyReLU(),\n",
    "                         nn.Linear(num_hidden, num_output)\n",
    "                        )\n",
    "# model.fc = nn.Linear(num_feature, num_output)\n",
    "# model.eval()\n",
    "# model.train()\n",
    "model = model.cuda()"
   ]
  },
  {
   "cell_type": "code",
   "execution_count": 0,
   "metadata": {
    "colab": {},
    "colab_type": "code",
    "id": "XczjvxsXKHyU"
   },
   "outputs": [],
   "source": [
    "MPATH = 'saved_states/model_state_v1.pth'\n",
    "# model.load_state_dict(torch.load(MPATH))"
   ]
  },
  {
   "cell_type": "code",
   "execution_count": 0,
   "metadata": {
    "colab": {},
    "colab_type": "code",
    "id": "VteKJnm3KHyO"
   },
   "outputs": [],
   "source": [
    "criterion = nn.SmoothL1Loss().cuda()\n",
    "\n",
    "optimizer = torch.optim.Adam(model.parameters(), lr=1e-3)\n",
    "scheduler = lr_scheduler.StepLR(optimizer, step_size=5, gamma=0.1)"
   ]
  },
  {
   "cell_type": "code",
   "execution_count": 0,
   "metadata": {
    "colab": {},
    "colab_type": "code",
    "id": "mVAZoY1gKHyR"
   },
   "outputs": [],
   "source": [
    "best_model_state = model.state_dict()\n",
    "best_epoch = -1\n",
    "best_acc = 0.0\n",
    "\n",
    "epoch_loss = {True: [], False: []}\n",
    "epoch_acc = {True: [], False: []}\n",
    "epochs = 20"
   ]
  },
  {
   "cell_type": "code",
   "execution_count": 0,
   "metadata": {
    "colab": {
     "base_uri": "https://localhost:8080/",
     "height": 1717
    },
    "colab_type": "code",
    "id": "gkhuk8mCKHyW",
    "outputId": "c0561d00-f7aa-4cc9-c1e0-42cf3861acd0"
   },
   "outputs": [
    {
     "name": "stderr",
     "output_type": "stream",
     "text": [
      "100% (157 of 157) |######################| Elapsed Time: 0:03:00 Time:  0:03:00\n"
     ]
    },
    {
     "name": "stdout",
     "output_type": "stream",
     "text": [
      "[True]\tEpoch: 1/20\tLoss: 12.1433\tAcc: 0.00%\tTime: 184.635\n"
     ]
    },
    {
     "name": "stderr",
     "output_type": "stream",
     "text": [
      "100% (18 of 18) |########################| Elapsed Time: 0:00:42 Time:  0:00:42\n"
     ]
    },
    {
     "name": "stdout",
     "output_type": "stream",
     "text": [
      "[False]\tEpoch: 1/20\tLoss: 11.9437\tAcc: 0.00%\tTime: 48.262\n",
      "[Info] best test acc: 0.00% at -1th epoch\n"
     ]
    },
    {
     "name": "stderr",
     "output_type": "stream",
     "text": [
      "100% (157 of 157) |######################| Elapsed Time: 0:01:02 Time:  0:01:02\n"
     ]
    },
    {
     "name": "stdout",
     "output_type": "stream",
     "text": [
      "[True]\tEpoch: 2/20\tLoss: 8.9632\tAcc: 0.00%\tTime: 63.814\n"
     ]
    },
    {
     "name": "stderr",
     "output_type": "stream",
     "text": [
      "100% (18 of 18) |########################| Elapsed Time: 0:00:06 Time:  0:00:06\n"
     ]
    },
    {
     "name": "stdout",
     "output_type": "stream",
     "text": [
      "[False]\tEpoch: 2/20\tLoss: 8.5710\tAcc: 0.00%\tTime: 6.921\n",
      "[Info] best test acc: 0.00% at -1th epoch\n"
     ]
    },
    {
     "name": "stderr",
     "output_type": "stream",
     "text": [
      "100% (157 of 157) |######################| Elapsed Time: 0:01:00 Time:  0:01:00\n"
     ]
    },
    {
     "name": "stdout",
     "output_type": "stream",
     "text": [
      "[True]\tEpoch: 3/20\tLoss: 5.3099\tAcc: 0.00%\tTime: 62.366\n"
     ]
    },
    {
     "name": "stderr",
     "output_type": "stream",
     "text": [
      "100% (18 of 18) |########################| Elapsed Time: 0:00:05 Time:  0:00:05\n"
     ]
    },
    {
     "name": "stdout",
     "output_type": "stream",
     "text": [
      "[False]\tEpoch: 3/20\tLoss: 5.3647\tAcc: 0.00%\tTime: 6.739\n",
      "[Info] best test acc: 0.00% at -1th epoch\n"
     ]
    },
    {
     "name": "stderr",
     "output_type": "stream",
     "text": [
      "100% (157 of 157) |######################| Elapsed Time: 0:01:01 Time:  0:01:01\n"
     ]
    },
    {
     "name": "stdout",
     "output_type": "stream",
     "text": [
      "[True]\tEpoch: 4/20\tLoss: 4.1719\tAcc: 0.00%\tTime: 62.958\n"
     ]
    },
    {
     "name": "stderr",
     "output_type": "stream",
     "text": [
      "100% (18 of 18) |########################| Elapsed Time: 0:00:06 Time:  0:00:06\n"
     ]
    },
    {
     "name": "stdout",
     "output_type": "stream",
     "text": [
      "[False]\tEpoch: 4/20\tLoss: 4.0917\tAcc: 0.00%\tTime: 6.957\n",
      "[Info] best test acc: 0.00% at -1th epoch\n"
     ]
    },
    {
     "name": "stderr",
     "output_type": "stream",
     "text": [
      "100% (157 of 157) |######################| Elapsed Time: 0:01:01 Time:  0:01:01\n"
     ]
    },
    {
     "name": "stdout",
     "output_type": "stream",
     "text": [
      "[True]\tEpoch: 5/20\tLoss: 3.9659\tAcc: 0.00%\tTime: 63.686\n"
     ]
    },
    {
     "name": "stderr",
     "output_type": "stream",
     "text": [
      "100% (18 of 18) |########################| Elapsed Time: 0:00:06 Time:  0:00:06\n"
     ]
    },
    {
     "name": "stdout",
     "output_type": "stream",
     "text": [
      "[False]\tEpoch: 5/20\tLoss: 3.9185\tAcc: 0.00%\tTime: 7.051\n",
      "[Info] best test acc: 0.00% at -1th epoch\n"
     ]
    },
    {
     "name": "stderr",
     "output_type": "stream",
     "text": [
      "100% (157 of 157) |######################| Elapsed Time: 0:01:03 Time:  0:01:03\n"
     ]
    },
    {
     "name": "stdout",
     "output_type": "stream",
     "text": [
      "[True]\tEpoch: 6/20\tLoss: 4.0040\tAcc: 0.00%\tTime: 65.332\n"
     ]
    },
    {
     "name": "stderr",
     "output_type": "stream",
     "text": [
      "100% (18 of 18) |########################| Elapsed Time: 0:00:06 Time:  0:00:06\n"
     ]
    },
    {
     "name": "stdout",
     "output_type": "stream",
     "text": [
      "[False]\tEpoch: 6/20\tLoss: 3.9394\tAcc: 0.00%\tTime: 7.120\n",
      "[Info] best test acc: 0.00% at -1th epoch\n"
     ]
    },
    {
     "name": "stderr",
     "output_type": "stream",
     "text": [
      "100% (157 of 157) |######################| Elapsed Time: 0:01:03 Time:  0:01:03\n"
     ]
    },
    {
     "name": "stdout",
     "output_type": "stream",
     "text": [
      "[True]\tEpoch: 7/20\tLoss: 3.7059\tAcc: 0.00%\tTime: 64.855\n"
     ]
    },
    {
     "name": "stderr",
     "output_type": "stream",
     "text": [
      "100% (18 of 18) |########################| Elapsed Time: 0:00:06 Time:  0:00:06\n"
     ]
    },
    {
     "name": "stdout",
     "output_type": "stream",
     "text": [
      "[False]\tEpoch: 7/20\tLoss: 3.6640\tAcc: 0.00%\tTime: 7.063\n",
      "[Info] best test acc: 0.00% at -1th epoch\n"
     ]
    },
    {
     "name": "stderr",
     "output_type": "stream",
     "text": [
      "100% (157 of 157) |######################| Elapsed Time: 0:01:02 Time:  0:01:02\n"
     ]
    },
    {
     "name": "stdout",
     "output_type": "stream",
     "text": [
      "[True]\tEpoch: 8/20\tLoss: 3.5729\tAcc: 0.00%\tTime: 64.027\n"
     ]
    },
    {
     "name": "stderr",
     "output_type": "stream",
     "text": [
      "100% (18 of 18) |########################| Elapsed Time: 0:00:06 Time:  0:00:06\n"
     ]
    },
    {
     "name": "stdout",
     "output_type": "stream",
     "text": [
      "[False]\tEpoch: 8/20\tLoss: 3.5440\tAcc: 0.00%\tTime: 7.081\n",
      "[Info] best test acc: 0.00% at -1th epoch\n"
     ]
    },
    {
     "name": "stderr",
     "output_type": "stream",
     "text": [
      "100% (157 of 157) |######################| Elapsed Time: 0:01:02 Time:  0:01:02\n"
     ]
    },
    {
     "name": "stdout",
     "output_type": "stream",
     "text": [
      "[True]\tEpoch: 9/20\tLoss: 3.3037\tAcc: 0.00%\tTime: 64.136\n"
     ]
    },
    {
     "name": "stderr",
     "output_type": "stream",
     "text": [
      "100% (18 of 18) |########################| Elapsed Time: 0:00:06 Time:  0:00:06\n"
     ]
    },
    {
     "name": "stdout",
     "output_type": "stream",
     "text": [
      "[False]\tEpoch: 9/20\tLoss: 3.2543\tAcc: 0.00%\tTime: 7.003\n",
      "[Info] best test acc: 0.00% at -1th epoch\n"
     ]
    },
    {
     "name": "stderr",
     "output_type": "stream",
     "text": [
      "100% (157 of 157) |######################| Elapsed Time: 0:01:02 Time:  0:01:02\n"
     ]
    },
    {
     "name": "stdout",
     "output_type": "stream",
     "text": [
      "[True]\tEpoch: 10/20\tLoss: 3.2550\tAcc: 0.00%\tTime: 64.735\n"
     ]
    },
    {
     "name": "stderr",
     "output_type": "stream",
     "text": [
      "100% (18 of 18) |########################| Elapsed Time: 0:00:06 Time:  0:00:06\n"
     ]
    },
    {
     "name": "stdout",
     "output_type": "stream",
     "text": [
      "[False]\tEpoch: 10/20\tLoss: 3.2027\tAcc: 0.00%\tTime: 6.940\n",
      "[Info] best test acc: 0.00% at -1th epoch\n"
     ]
    },
    {
     "name": "stderr",
     "output_type": "stream",
     "text": [
      "100% (157 of 157) |######################| Elapsed Time: 0:01:02 Time:  0:01:02\n"
     ]
    },
    {
     "name": "stdout",
     "output_type": "stream",
     "text": [
      "[True]\tEpoch: 11/20\tLoss: 3.1531\tAcc: 0.00%\tTime: 63.566\n"
     ]
    },
    {
     "name": "stderr",
     "output_type": "stream",
     "text": [
      "100% (18 of 18) |########################| Elapsed Time: 0:00:06 Time:  0:00:06\n"
     ]
    },
    {
     "name": "stdout",
     "output_type": "stream",
     "text": [
      "[False]\tEpoch: 11/20\tLoss: 3.1052\tAcc: 0.00%\tTime: 7.194\n",
      "[Info] best test acc: 0.00% at -1th epoch\n"
     ]
    },
    {
     "name": "stderr",
     "output_type": "stream",
     "text": [
      "100% (157 of 157) |######################| Elapsed Time: 0:01:04 Time:  0:01:04\n"
     ]
    },
    {
     "name": "stdout",
     "output_type": "stream",
     "text": [
      "[True]\tEpoch: 12/20\tLoss: 3.1115\tAcc: 0.00%\tTime: 65.764\n"
     ]
    },
    {
     "name": "stderr",
     "output_type": "stream",
     "text": [
      "100% (18 of 18) |########################| Elapsed Time: 0:00:06 Time:  0:00:06\n"
     ]
    },
    {
     "name": "stdout",
     "output_type": "stream",
     "text": [
      "[False]\tEpoch: 12/20\tLoss: 3.0616\tAcc: 0.00%\tTime: 6.933\n",
      "[Info] best test acc: 0.00% at -1th epoch\n"
     ]
    },
    {
     "name": "stderr",
     "output_type": "stream",
     "text": [
      "100% (157 of 157) |######################| Elapsed Time: 0:01:02 Time:  0:01:02\n"
     ]
    },
    {
     "name": "stdout",
     "output_type": "stream",
     "text": [
      "[True]\tEpoch: 13/20\tLoss: 3.0893\tAcc: 0.00%\tTime: 63.847\n"
     ]
    },
    {
     "name": "stderr",
     "output_type": "stream",
     "text": [
      "100% (18 of 18) |########################| Elapsed Time: 0:00:06 Time:  0:00:06\n"
     ]
    },
    {
     "name": "stdout",
     "output_type": "stream",
     "text": [
      "[False]\tEpoch: 13/20\tLoss: 3.0323\tAcc: 0.00%\tTime: 6.986\n",
      "[Info] best test acc: 0.00% at -1th epoch\n"
     ]
    },
    {
     "name": "stderr",
     "output_type": "stream",
     "text": [
      "100% (157 of 157) |######################| Elapsed Time: 0:01:02 Time:  0:01:02\n"
     ]
    },
    {
     "name": "stdout",
     "output_type": "stream",
     "text": [
      "[True]\tEpoch: 14/20\tLoss: 3.0691\tAcc: 0.00%\tTime: 64.430\n"
     ]
    },
    {
     "name": "stderr",
     "output_type": "stream",
     "text": [
      "100% (18 of 18) |########################| Elapsed Time: 0:00:05 Time:  0:00:05\n"
     ]
    },
    {
     "name": "stdout",
     "output_type": "stream",
     "text": [
      "[False]\tEpoch: 14/20\tLoss: 3.0253\tAcc: 0.00%\tTime: 6.564\n",
      "[Info] best test acc: 0.00% at -1th epoch\n"
     ]
    },
    {
     "name": "stderr",
     "output_type": "stream",
     "text": [
      "100% (157 of 157) |######################| Elapsed Time: 0:00:59 Time:  0:00:59\n"
     ]
    },
    {
     "name": "stdout",
     "output_type": "stream",
     "text": [
      "[True]\tEpoch: 15/20\tLoss: 3.0126\tAcc: 0.00%\tTime: 61.318\n"
     ]
    },
    {
     "name": "stderr",
     "output_type": "stream",
     "text": [
      "100% (18 of 18) |########################| Elapsed Time: 0:00:06 Time:  0:00:06\n"
     ]
    },
    {
     "name": "stdout",
     "output_type": "stream",
     "text": [
      "[False]\tEpoch: 15/20\tLoss: 2.9631\tAcc: 0.00%\tTime: 6.814\n",
      "[Info] best test acc: 0.00% at -1th epoch\n"
     ]
    },
    {
     "name": "stderr",
     "output_type": "stream",
     "text": [
      "100% (157 of 157) |######################| Elapsed Time: 0:01:02 Time:  0:01:02\n"
     ]
    },
    {
     "name": "stdout",
     "output_type": "stream",
     "text": [
      "[True]\tEpoch: 16/20\tLoss: 2.8875\tAcc: 0.00%\tTime: 63.746\n"
     ]
    },
    {
     "name": "stderr",
     "output_type": "stream",
     "text": [
      "100% (18 of 18) |########################| Elapsed Time: 0:00:06 Time:  0:00:06\n"
     ]
    },
    {
     "name": "stdout",
     "output_type": "stream",
     "text": [
      "[False]\tEpoch: 16/20\tLoss: 2.8499\tAcc: 0.00%\tTime: 7.022\n",
      "[Info] best test acc: 0.00% at -1th epoch\n"
     ]
    },
    {
     "name": "stderr",
     "output_type": "stream",
     "text": [
      "100% (157 of 157) |######################| Elapsed Time: 0:00:59 Time:  0:00:59\n"
     ]
    },
    {
     "name": "stdout",
     "output_type": "stream",
     "text": [
      "[True]\tEpoch: 17/20\tLoss: 2.9613\tAcc: 0.00%\tTime: 60.957\n"
     ]
    },
    {
     "name": "stderr",
     "output_type": "stream",
     "text": [
      "100% (18 of 18) |########################| Elapsed Time: 0:00:05 Time:  0:00:05\n"
     ]
    },
    {
     "name": "stdout",
     "output_type": "stream",
     "text": [
      "[False]\tEpoch: 17/20\tLoss: 2.9138\tAcc: 0.00%\tTime: 6.729\n",
      "[Info] best test acc: 0.00% at -1th epoch\n"
     ]
    },
    {
     "name": "stderr",
     "output_type": "stream",
     "text": [
      "100% (157 of 157) |######################| Elapsed Time: 0:00:59 Time:  0:00:59\n"
     ]
    },
    {
     "name": "stdout",
     "output_type": "stream",
     "text": [
      "[True]\tEpoch: 18/20\tLoss: 2.8708\tAcc: 0.00%\tTime: 61.197\n"
     ]
    },
    {
     "name": "stderr",
     "output_type": "stream",
     "text": [
      "100% (18 of 18) |########################| Elapsed Time: 0:00:06 Time:  0:00:06\n"
     ]
    },
    {
     "name": "stdout",
     "output_type": "stream",
     "text": [
      "[False]\tEpoch: 18/20\tLoss: 2.8321\tAcc: 0.00%\tTime: 7.323\n",
      "[Info] best test acc: 0.00% at -1th epoch\n"
     ]
    },
    {
     "name": "stderr",
     "output_type": "stream",
     "text": [
      "100% (157 of 157) |######################| Elapsed Time: 0:00:59 Time:  0:00:59\n"
     ]
    },
    {
     "name": "stdout",
     "output_type": "stream",
     "text": [
      "[True]\tEpoch: 19/20\tLoss: 2.9453\tAcc: 0.00%\tTime: 61.115\n"
     ]
    },
    {
     "name": "stderr",
     "output_type": "stream",
     "text": [
      "100% (18 of 18) |########################| Elapsed Time: 0:00:06 Time:  0:00:06\n"
     ]
    },
    {
     "name": "stdout",
     "output_type": "stream",
     "text": [
      "[False]\tEpoch: 19/20\tLoss: 2.9103\tAcc: 0.00%\tTime: 6.880\n",
      "[Info] best test acc: 0.00% at -1th epoch\n"
     ]
    },
    {
     "name": "stderr",
     "output_type": "stream",
     "text": [
      "100% (157 of 157) |######################| Elapsed Time: 0:00:58 Time:  0:00:58\n"
     ]
    },
    {
     "name": "stdout",
     "output_type": "stream",
     "text": [
      "[True]\tEpoch: 20/20\tLoss: 2.9569\tAcc: 0.00%\tTime: 60.280\n"
     ]
    },
    {
     "name": "stderr",
     "output_type": "stream",
     "text": [
      "100% (18 of 18) |########################| Elapsed Time: 0:00:06 Time:  0:00:06\n"
     ]
    },
    {
     "name": "stdout",
     "output_type": "stream",
     "text": [
      "[False]\tEpoch: 20/20\tLoss: 2.9286\tAcc: 0.00%\tTime: 6.974\n",
      "[Info] best test acc: 0.00% at -1th epoch\n"
     ]
    }
   ],
   "source": [
    "for epoch in range(epochs):\n",
    "    accs = AverageMeter()\n",
    "    losses = AverageMeter()\n",
    "    for train_mode in (True, False):\n",
    "        if train_mode:\n",
    "            scheduler.step()\n",
    "            data_loader = train_loader\n",
    "        else:\n",
    "            data_loader = test_loader\n",
    "        model.train(mode=train_mode)\n",
    "            \n",
    "        end = time.time()\n",
    "        bar = progressbar.ProgressBar()\n",
    "        for ims, boxes in bar(data_loader):\n",
    "            \n",
    "            inputs = ims.cuda()\n",
    "            targets = boxes.cuda()\n",
    "            \n",
    "            optimizer.zero_grad()\n",
    "            \n",
    "            # forward\n",
    "            outputs = model(inputs)\n",
    "            loss = criterion(outputs, targets)\n",
    "#             acc = compute_acc(outputs.data.cpu(), targets.data.cpu(), im_sizes)\n",
    "            \n",
    "            nsample = inputs.size(0)\n",
    "#             accs.update(acc, nsample)\n",
    "            losses.update(loss.data, nsample)\n",
    "            \n",
    "            if train_mode:\n",
    "                loss.backward()\n",
    "                optimizer.step()\n",
    "        \n",
    "#         if not train_mode and accs.avg > best_acc:\n",
    "#             best_acc = accs.avg\n",
    "#             best_epoch = epoch\n",
    "#             best_model_state = model.state_dict()\n",
    "            \n",
    "        elapsed_time = time.time() - end\n",
    "        print('[{}]\\tEpoch: {}/{}\\tLoss: {:.4f}\\tAcc: {:.2%}\\tTime: {:.3f}'.format(\n",
    "            train_mode, epoch+1, epochs, losses.avg, accs.avg, elapsed_time))\n",
    "        epoch_loss[train_mode].append(losses.avg)\n",
    "        epoch_acc[train_mode].append(accs.avg)\n",
    "        \n",
    "    print('[Info] best test acc: {:.2%} at {}th epoch'.format(best_acc, best_epoch))\n",
    "    torch.save(model.state_dict(), MPATH)"
   ]
  },
  {
   "cell_type": "code",
   "execution_count": 0,
   "metadata": {
    "colab": {
     "base_uri": "https://localhost:8080/",
     "height": 34
    },
    "colab_type": "code",
    "id": "hoxzZgW5Tt1r",
    "outputId": "064b2d4d-8b56-4776-a47a-4e0760558536"
   },
   "outputs": [
    {
     "name": "stdout",
     "output_type": "stream",
     "text": [
      "Working in test mode\n"
     ]
    }
   ],
   "source": [
    "test_batch = 0\n",
    "indx = -1\n",
    "model.eval()\n",
    "print('Working in test mode')"
   ]
  },
  {
   "cell_type": "code",
   "execution_count": 0,
   "metadata": {
    "colab": {
     "base_uri": "https://localhost:8080/",
     "height": 493
    },
    "colab_type": "code",
    "id": "aRB_bJN6U7Z0",
    "outputId": "55d800a6-3371-4d8c-8a14-4669dfb01d15"
   },
   "outputs": [
    {
     "name": "stdout",
     "output_type": "stream",
     "text": [
      "4\n"
     ]
    },
    {
     "data": {
      "image/png": "[encoded data removed]",
      "text/plain": [
       "<Figure size 576x576 with 1 Axes>"
      ]
     },
     "metadata": {
      "tags": []
     },
     "output_type": "display_data"
    }
   ],
   "source": [
    "if indx < 0:\n",
    "  # model.train(mode=False)\n",
    "  for i,(ims, boxes) in enumerate(test_loader):\n",
    "    if i<test_batch:\n",
    "      continue\n",
    "    inputs = ims.cuda()\n",
    "    targets = boxes.cuda()\n",
    "    outputs = model(inputs)\n",
    "    test_batch +=1\n",
    "    break\n",
    "    \n",
    "indx +=1\n",
    "img = inputs[indx].data.cpu()\n",
    "img = FinalTransform().transform_inv(img)\n",
    "out = outputs[indx].data.cpu().numpy()\n",
    "out = np.append(out, out[:2]).reshape(-1,2)\n",
    "targ = targets[indx].data.cpu().numpy()\n",
    "targ = np.append(targ, targ[:2]).reshape(-1,2)\n",
    "\n",
    "\n",
    "plt.figure(figsize=(8, 8))\n",
    "plt.imshow(img)\n",
    "plt.plot(targ[:,0], targ[:,1], lw=3, c='g')\n",
    "plt.plot(out[:,0], out[:,1], lw=3, c='r')\n",
    "print(indx)\n",
    "if indx == 31:\n",
    "  indx = -1"
   ]
  },
  {
   "cell_type": "code",
   "execution_count": 0,
   "metadata": {
    "colab": {},
    "colab_type": "code",
    "id": "1i-BSsbTTfuW"
   },
   "outputs": [],
   "source": [
    "# i+=1\n",
    "# img = inputs[i].data.cpu()\n",
    "# img = FinalTransform().transform_inv(img)\n",
    "# out = outputs[i].data.cpu().numpy()\n",
    "# out = np.append(out, out[:2]).reshape(-1,2)\n",
    "\n",
    "# plt.figure(figsize=(8, 8))\n",
    "# plt.imshow(img)\n",
    "# plt.plot(out[:,0], out[:,1], lw=3, c='g')\n",
    "# i"
   ]
  },
  {
   "cell_type": "code",
   "execution_count": 0,
   "metadata": {
    "colab": {},
    "colab_type": "code",
    "id": "jC0m718jgs_F"
   },
   "outputs": [],
   "source": [
    "model_state = model.state_dict()\n",
    "torch.save(model_state, MPATH)\n",
    "# optimizer_state = optimizer.state_dict()\n",
    "# torch.save(optimizer_state, 'optimizer_state_v1.pth')"
   ]
  },
  {
   "cell_type": "code",
   "execution_count": 0,
   "metadata": {
    "colab": {},
    "colab_type": "code",
    "id": "QZDh9D0UOFG2"
   },
   "outputs": [],
   "source": []
  }
 ],
 "metadata": {
  "accelerator": "GPU",
  "colab": {
   "collapsed_sections": [],
   "name": "Localization_Model_v1.ipynb",
   "provenance": [],
   "version": "0.3.2"
  },
  "kernelspec": {
   "display_name": "Python 3",
   "language": "python",
   "name": "python3"
  },
  "language_info": {
   "codemirror_mode": {
    "name": "ipython",
    "version": 3
   },
   "file_extension": ".py",
   "mimetype": "text/x-python",
   "name": "python",
   "nbconvert_exporter": "python",
   "pygments_lexer": "ipython3",
   "version": "3.7.3"
  }
 },
 "nbformat": 4,
 "nbformat_minor": 1
}
