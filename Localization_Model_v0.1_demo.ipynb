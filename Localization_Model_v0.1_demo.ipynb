{
 "cells": [
  {
   "cell_type": "markdown",
   "metadata": {
    "colab_type": "text",
    "id": "5Nbz2xj6UT42"
   },
   "source": [
    "On final dataset, using only labeled images ; Resnet18 -> Linear"
   ]
  },
  {
   "cell_type": "code",
   "execution_count": 1,
   "metadata": {
    "colab": {},
    "colab_type": "code",
    "id": "_FsPlBygKHxW"
   },
   "outputs": [],
   "source": [
    "import numpy as np\n",
    "import pandas as pd\n",
    "import torch\n",
    "import torch.nn as nn\n",
    "import torch.nn.functional as F\n",
    "import matplotlib.pyplot as plt\n",
    "%matplotlib inline\n",
    "\n",
    "from torch.utils.data import Dataset\n",
    "from torch.optim import lr_scheduler\n",
    "from torchvision import datasets, models, transforms\n",
    "from PIL import Image # pip3 install pillow\n",
    "import random\n",
    "import cv2\n",
    "import time\n",
    "import os"
   ]
  },
  {
   "cell_type": "code",
   "execution_count": 39,
   "metadata": {
    "colab": {
     "base_uri": "https://localhost:8080/",
     "height": 153
    },
    "colab_type": "code",
    "id": "1RC2tw5lKHxb",
    "outputId": "3d30ea49-59c9-4304-fb66-fb6bff16c1ef"
   },
   "outputs": [
    {
     "data": {
      "text/html": [
       "<div>\n",
       "<style scoped>\n",
       "    .dataframe tbody tr th:only-of-type {\n",
       "        vertical-align: middle;\n",
       "    }\n",
       "\n",
       "    .dataframe tbody tr th {\n",
       "        vertical-align: top;\n",
       "    }\n",
       "\n",
       "    .dataframe thead th {\n",
       "        text-align: right;\n",
       "    }\n",
       "</style>\n",
       "<table border=\"1\" class=\"dataframe\">\n",
       "  <thead>\n",
       "    <tr style=\"text-align: right;\">\n",
       "      <th></th>\n",
       "      <th>image</th>\n",
       "      <th>points</th>\n",
       "      <th>labeled</th>\n",
       "    </tr>\n",
       "  </thead>\n",
       "  <tbody>\n",
       "    <tr>\n",
       "      <th>0</th>\n",
       "      <td>data/dactar/1300_img.png</td>\n",
       "      <td>[177.16228095049055, 184.83182101741053, 244.7...</td>\n",
       "      <td>1</td>\n",
       "    </tr>\n",
       "    <tr>\n",
       "      <th>1</th>\n",
       "      <td>data/dactar/1766_img.png</td>\n",
       "      <td>[409.7109787838158, 362.74050003943523, 536.55...</td>\n",
       "      <td>1</td>\n",
       "    </tr>\n",
       "    <tr>\n",
       "      <th>2</th>\n",
       "      <td>data/dactar/130_img.png</td>\n",
       "      <td>[386.66894459252546, 342.1963080587535, 503.59...</td>\n",
       "      <td>1</td>\n",
       "    </tr>\n",
       "    <tr>\n",
       "      <th>3</th>\n",
       "      <td>data/dactar/1785_img.png</td>\n",
       "      <td>[197.75577726950075, 171.98786970581278, 250.1...</td>\n",
       "      <td>1</td>\n",
       "    </tr>\n",
       "    <tr>\n",
       "      <th>4</th>\n",
       "      <td>data/dactar/617_img.png</td>\n",
       "      <td>[180.14505945291972, 298.14972872833135, 288.5...</td>\n",
       "      <td>1</td>\n",
       "    </tr>\n",
       "  </tbody>\n",
       "</table>\n",
       "</div>"
      ],
      "text/plain": [
       "                      image  \\\n",
       "0  data/dactar/1300_img.png   \n",
       "1  data/dactar/1766_img.png   \n",
       "2   data/dactar/130_img.png   \n",
       "3  data/dactar/1785_img.png   \n",
       "4   data/dactar/617_img.png   \n",
       "\n",
       "                                              points  labeled  \n",
       "0  [177.16228095049055, 184.83182101741053, 244.7...        1  \n",
       "1  [409.7109787838158, 362.74050003943523, 536.55...        1  \n",
       "2  [386.66894459252546, 342.1963080587535, 503.59...        1  \n",
       "3  [197.75577726950075, 171.98786970581278, 250.1...        1  \n",
       "4  [180.14505945291972, 298.14972872833135, 288.5...        1  "
      ]
     },
     "execution_count": 39,
     "metadata": {},
     "output_type": "execute_result"
    }
   ],
   "source": [
    "df = pd.read_pickle(\"data/dataset.pkl\")\n",
    "df.head()"
   ]
  },
  {
   "cell_type": "code",
   "execution_count": 42,
   "metadata": {},
   "outputs": [
    {
     "data": {
      "text/plain": [
       "(80, 'test/dactar/302_img.png')"
      ]
     },
     "execution_count": 42,
     "metadata": {},
     "output_type": "execute_result"
    }
   ],
   "source": [
    "img_folder = \"test/\"\n",
    "imlist = []\n",
    "for (dirpath, dirnames, filenames) in os.walk(img_folder):\n",
    "#     imlist.extend(filenames)\n",
    "    imlist.extend([os.path.join(dirpath, filename) for filename in filenames])\n",
    "\n",
    "# imlist =[f for f in os.listdir(img_folder) \n",
    "#          if os.path.isfile(os.path.join(img_folder, f))]\n",
    "len(imlist), imlist[0]"
   ]
  },
  {
   "cell_type": "code",
   "execution_count": 50,
   "metadata": {},
   "outputs": [
    {
     "name": "stdout",
     "output_type": "stream",
     "text": [
      "80 80\n"
     ]
    },
    {
     "data": {
      "text/html": [
       "<div>\n",
       "<style scoped>\n",
       "    .dataframe tbody tr th:only-of-type {\n",
       "        vertical-align: middle;\n",
       "    }\n",
       "\n",
       "    .dataframe tbody tr th {\n",
       "        vertical-align: top;\n",
       "    }\n",
       "\n",
       "    .dataframe thead th {\n",
       "        text-align: right;\n",
       "    }\n",
       "</style>\n",
       "<table border=\"1\" class=\"dataframe\">\n",
       "  <thead>\n",
       "    <tr style=\"text-align: right;\">\n",
       "      <th></th>\n",
       "      <th>image</th>\n",
       "      <th>points</th>\n",
       "    </tr>\n",
       "  </thead>\n",
       "  <tbody>\n",
       "    <tr>\n",
       "      <th>0</th>\n",
       "      <td>test/dactar/302_img.png</td>\n",
       "      <td>[311.5482687909141, 263.43743197413045, 412.96...</td>\n",
       "    </tr>\n",
       "    <tr>\n",
       "      <th>1</th>\n",
       "      <td>test/dactar/643_img.png</td>\n",
       "      <td>[200.52462157335316, 178.39022592894423, 270.9...</td>\n",
       "    </tr>\n",
       "    <tr>\n",
       "      <th>2</th>\n",
       "      <td>test/dactar/4_img.png</td>\n",
       "      <td>[731.6394153243285, 558.4904461359735, 881.935...</td>\n",
       "    </tr>\n",
       "    <tr>\n",
       "      <th>3</th>\n",
       "      <td>test/dactar/833_img.png</td>\n",
       "      <td>[0.0, 0.0, 0.0, 0.0, 0.0, 0.0, 0.0, 0.0]</td>\n",
       "    </tr>\n",
       "    <tr>\n",
       "      <th>4</th>\n",
       "      <td>test/dactar/246_img.png</td>\n",
       "      <td>[159.01733886166608, 167.15541582428125, 239.7...</td>\n",
       "    </tr>\n",
       "  </tbody>\n",
       "</table>\n",
       "</div>"
      ],
      "text/plain": [
       "                     image                                             points\n",
       "0  test/dactar/302_img.png  [311.5482687909141, 263.43743197413045, 412.96...\n",
       "1  test/dactar/643_img.png  [200.52462157335316, 178.39022592894423, 270.9...\n",
       "2    test/dactar/4_img.png  [731.6394153243285, 558.4904461359735, 881.935...\n",
       "3  test/dactar/833_img.png           [0.0, 0.0, 0.0, 0.0, 0.0, 0.0, 0.0, 0.0]\n",
       "4  test/dactar/246_img.png  [159.01733886166608, 167.15541582428125, 239.7..."
      ]
     },
     "execution_count": 50,
     "metadata": {},
     "output_type": "execute_result"
    }
   ],
   "source": [
    "data_list = []\n",
    "all_imgs = [imgname.replace(\"data\",\"test\") for imgname in df.image.tolist()]\n",
    "for img in imlist:\n",
    "    try:\n",
    "        indx = all_imgs.index(img)\n",
    "        tokeep.append(indx)\n",
    "#         data_list.append([df.iloc[indx].image, df.iloc[indx].points])\n",
    "#         data_list.append([os.path.join(img_folder, df.iloc[indx].image.split('/')[-1]), df.iloc[indx].points])\n",
    "        data_list.append([all_imgs[indx], df.iloc[indx].points])\n",
    "\n",
    "    except ValueError as e:\n",
    "        continue\n",
    "df_test = pd.DataFrame(data=data_list, columns=[\"image\", \"points\"])\n",
    "print(len(imlist), len(df_test))\n",
    "df_test.head()"
   ]
  },
  {
   "cell_type": "code",
   "execution_count": 51,
   "metadata": {},
   "outputs": [],
   "source": [
    "# df_test1 = df.iloc[tokeep].reset_index()\n",
    "# df_test = df_test1.copy()\n",
    "# df_test"
   ]
  },
  {
   "cell_type": "code",
   "execution_count": 52,
   "metadata": {},
   "outputs": [],
   "source": [
    "# all_imgs = [os.path.join(img_folder, imgname.split('/')[-1]) for imgname in df_test.image.tolist()]\n",
    "# df_test1 = df_test.drop(columns=['image'])\n",
    "# df_test1['image'] = all_imgs\n",
    "# df_test1 = df_test1[[\"image\", \"points\"]]\n",
    "# df_test1"
   ]
  },
  {
   "cell_type": "code",
   "execution_count": 89,
   "metadata": {},
   "outputs": [
    {
     "name": "stdout",
     "output_type": "stream",
     "text": [
      "test/jeevan/571_img.png [136.06358885 219.09233449 220.85452962 214.23170732 220.85452962\n",
      " 235.29442509 136.06358885 240.15505226]\n"
     ]
    },
    {
     "data": {
      "text/plain": [
       "[<matplotlib.lines.Line2D at 0x7fa5baf2d198>]"
      ]
     },
     "execution_count": 89,
     "metadata": {},
     "output_type": "execute_result"
    },
    {
     "data": {
      "image/png": "[encoded data removed]",
      "text/plain": [
       "<Figure size 576x576 with 1 Axes>"
      ]
     },
     "metadata": {
      "needs_background": "light"
     },
     "output_type": "display_data"
    }
   ],
   "source": [
    "# i=-1\n",
    "i+=1\n",
    "path, targ = df_test.iloc[i].image, df_test.iloc[i].points\n",
    "print(path, targ)\n",
    "img = Image.open(path).convert('RGB')\n",
    "\n",
    "targ = np.append(targ, targ[:2]).reshape(-1,2)\n",
    "# targ = targ.reshape(-1,2)\n",
    "plt.figure(figsize=(8, 8))\n",
    "plt.imshow(img)\n",
    "plt.plot(targ[:,0], targ[:,1], lw=3, c='g')"
   ]
  },
  {
   "cell_type": "markdown",
   "metadata": {
    "colab_type": "text",
    "id": "5-mKB_zRKHxo"
   },
   "source": [
    "### Image Transform"
   ]
  },
  {
   "cell_type": "code",
   "execution_count": 90,
   "metadata": {
    "colab": {},
    "colab_type": "code",
    "id": "3Xe7PAzKKHxo"
   },
   "outputs": [],
   "source": [
    "class ResizeAspect(object):\n",
    "    def __init__(self, h, w):\n",
    "        self.hw = (h, w)\n",
    "        self.rescale_factor=None\n",
    "        self.shift_h=None\n",
    "        self.shift_w=None\n",
    "        \n",
    "    def do_image(self, img):\n",
    "        h, w = self.hw\n",
    "        img_h, img_w = img.shape[0], img.shape[1]\n",
    "        rescale_factor = min(w/img_w, h/img_h)\n",
    "        new_w = int(img_w * rescale_factor)\n",
    "        new_h = int(img_h * rescale_factor)\n",
    "        resized_image = cv2.resize(img, (new_w,new_h), interpolation = cv2.INTER_CUBIC)\n",
    "\n",
    "        canvas = np.full((h, w, 3), 128, dtype=np.uint8)\n",
    "        shift_h = (h-new_h)//2\n",
    "        shift_w = (w-new_w)//2\n",
    "        canvas[(h-new_h)//2:(h-new_h)//2 + new_h,(w-new_w)//2:(w-new_w)//2 + new_w,  :] = resized_image\n",
    "        img = canvas.copy()\n",
    "        self.rescale_factor=rescale_factor\n",
    "        self.shift_h = shift_h\n",
    "        self.shift_w = shift_w\n",
    "        return img\n",
    "    \n",
    "    def do_box(self, box):\n",
    "        box = box.reshape(-1,2)\n",
    "        box *=self.rescale_factor\n",
    "        box[: ,0] += self.shift_w\n",
    "        box[: ,1] += self.shift_h\n",
    "        box = box.reshape(-1)\n",
    "        return box\n",
    "    \n",
    "    def undo_box(self, box):\n",
    "        box = box.reshape(-1,2)\n",
    "        box[: ,0] -= self.shift_w\n",
    "        box[: ,1] -= self.shift_h\n",
    "        box /=self.rescale_factor\n",
    "        box = box.reshape(-1)\n",
    "        return box"
   ]
  },
  {
   "cell_type": "code",
   "execution_count": 91,
   "metadata": {
    "colab": {},
    "colab_type": "code",
    "id": "9szOaV5wKHxs"
   },
   "outputs": [],
   "source": [
    "class FinalTransform:\n",
    "    def __init__(self):\n",
    "        self.transform = transforms.Compose([\n",
    "            transforms.ToTensor(),\n",
    "            transforms.Normalize(mean=[0.485, 0.456, 0.406],\n",
    "                                 std=[0.229, 0.224, 0.225])])\n",
    "    \n",
    "    def transform_inv(self,img):\n",
    "        inp = img.numpy().transpose((1, 2, 0))\n",
    "        mean = np.array([0.485, 0.456, 0.406])\n",
    "        std = np.array([0.229, 0.224, 0.225])\n",
    "        inp = std * inp + mean\n",
    "        inp = np.clip(inp, 0, 1)\n",
    "        return inp"
   ]
  },
  {
   "cell_type": "markdown",
   "metadata": {
    "colab_type": "text",
    "id": "niEfDCspKHxv"
   },
   "source": [
    "### Dataset Loader"
   ]
  },
  {
   "cell_type": "code",
   "execution_count": 92,
   "metadata": {
    "colab": {},
    "colab_type": "code",
    "id": "Jsd-VuCkKHxv"
   },
   "outputs": [],
   "source": [
    "class LicenseDataset(Dataset):\n",
    "    def __init__(self, df):\n",
    "        \n",
    "        self.imgs = list(df.image)\n",
    "        self.boxes = df.points.tolist()\n",
    "        self.final_transform = FinalTransform()\n",
    "        self.transform = self.final_transform.transform\n",
    "        self.transform_inv = self.final_transform.transform_inv\n",
    "        self.resizer = ResizeAspect(h=224, w=224)\n",
    "            \n",
    "    def __getitem__(self, index):\n",
    "        path= self.imgs[index]\n",
    "        box = self.boxes[index]\n",
    "        \n",
    "        \n",
    "        img = Image.open(path).convert('RGB')\n",
    "        img = self.resizer.do_image(np.array(img))\n",
    "        img = self.final_transform.transform(img)\n",
    "        box = self.resizer.do_box(box)\n",
    "        box = np.array(box, dtype=np.float32)\n",
    "\n",
    "        factor = np.array(\n",
    "            [self.resizer.rescale_factor, self.resizer.shift_h, self.resizer.shift_w],\n",
    "            dtype=np.float32\n",
    "        )\n",
    "        return img, box, factor, index\n",
    "      \n",
    "    \n",
    "    def __len__(self):\n",
    "        return len(self.imgs)"
   ]
  },
  {
   "cell_type": "code",
   "execution_count": 93,
   "metadata": {
    "colab": {},
    "colab_type": "code",
    "id": "Q__KgwU1KHyB"
   },
   "outputs": [],
   "source": [
    "test = LicenseDataset(df_test)"
   ]
  },
  {
   "cell_type": "code",
   "execution_count": 94,
   "metadata": {
    "colab": {},
    "colab_type": "code",
    "id": "jKrQ6UJlKHyI"
   },
   "outputs": [],
   "source": [
    "test_loader = torch.utils.data.DataLoader(\n",
    "                test, batch_size=32,shuffle=False,\n",
    "                num_workers=4, pin_memory=True)"
   ]
  },
  {
   "cell_type": "markdown",
   "metadata": {
    "colab_type": "text",
    "id": "LpduTwnOKHyL"
   },
   "source": [
    "### Defining Model"
   ]
  },
  {
   "cell_type": "code",
   "execution_count": 95,
   "metadata": {
    "colab": {},
    "colab_type": "code",
    "id": "48sFrjXrKHyL"
   },
   "outputs": [],
   "source": [
    "model = models.resnet18(pretrained=True)\n",
    "'''\n",
    "output of our model is :\n",
    "x1, y1,\n",
    "x2, y2,\n",
    "x3, y3,\n",
    "x4, y4,\n",
    "conf -> only when no bounding box images are taken\n",
    "'''\n",
    "num_feature = model.fc.in_features\n",
    "num_output = 8#9\n",
    "model.fc = nn.Linear(num_feature, num_output)\n",
    "model = model.cpu()"
   ]
  },
  {
   "cell_type": "code",
   "execution_count": 96,
   "metadata": {
    "colab": {},
    "colab_type": "code",
    "id": "XczjvxsXKHyU"
   },
   "outputs": [
    {
     "data": {
      "text/plain": [
       "IncompatibleKeys(missing_keys=[], unexpected_keys=[])"
      ]
     },
     "execution_count": 96,
     "metadata": {},
     "output_type": "execute_result"
    }
   ],
   "source": [
    "model.load_state_dict(torch.load('saved_states/model_state_v0.pth', map_location='cpu'))"
   ]
  },
  {
   "cell_type": "code",
   "execution_count": 97,
   "metadata": {
    "colab": {
     "base_uri": "https://localhost:8080/",
     "height": 34
    },
    "colab_type": "code",
    "id": "aRB_bJN6U7Z0",
    "outputId": "500da7d5-7089-444c-90dd-7d788dc457a6"
   },
   "outputs": [
    {
     "name": "stdout",
     "output_type": "stream",
     "text": [
      "Working in test mode\n"
     ]
    }
   ],
   "source": [
    "test_batch = 0\n",
    "indx = -1\n",
    "model.eval()\n",
    "print('Working in test mode')"
   ]
  },
  {
   "cell_type": "code",
   "execution_count": 98,
   "metadata": {
    "colab": {
     "base_uri": "https://localhost:8080/",
     "height": 503
    },
    "colab_type": "code",
    "id": "1i-BSsbTTfuW",
    "outputId": "bd7bb399-5891-4490-98c5-ad5b02964ab0"
   },
   "outputs": [],
   "source": [
    "# if indx < 0:\n",
    "#     for j,(ims, boxes, factors, index) in enumerate(test_loader):\n",
    "#         if j<test_batch:\n",
    "#             continue\n",
    "#         index = index.cpu().numpy()\n",
    "#         inputs = ims.cpu()\n",
    "#         targets = boxes.cpu().numpy()\n",
    "#         factors = factors.cpu().numpy()\n",
    "#         outputs = model(inputs)\n",
    "#         outputs = outputs.data.cpu().numpy()\n",
    "#         test_batch +=1\n",
    "#         break\n",
    "    \n",
    "# indx +=1\n",
    "# loader_indx = index[indx]\n",
    "# factor = factors[indx]\n",
    "# resizer = test.resizer\n",
    "\n",
    "\n",
    "# path= test.imgs[loader_indx]\n",
    "# img = Image.open(path).convert('RGB')\n",
    "# resizer.rescale_factor=factor[0]\n",
    "# resizer.shift_h=factor[1]\n",
    "# resizer.shift_w=factor[2]\n",
    "\n",
    "\n",
    "# targ = test.boxes[loader_indx]\n",
    "# targ = np.append(targ, targ[:2]).reshape(-1,2)\n",
    "\n",
    "# out = outputs[indx]\n",
    "# # print(out)\n",
    "# # print(resizer, resizer.rescale_factor, resizer.shift_h, resizer.shift_w)\n",
    "# out = resizer.undo_box(out)\n",
    "# out = np.append(out, out[:2]).reshape(-1,2)\n",
    "\n",
    "# plt.figure(figsize=(8, 8))\n",
    "# plt.imshow(img)\n",
    "# plt.plot(targ[:,0], targ[:,1], lw=3, c='g')\n",
    "# plt.plot(out[:,0], out[:,1], lw=3, c='r')\n",
    "# print(indx)\n",
    "# if indx == 31:\n",
    "#     indx = -1"
   ]
  },
  {
   "cell_type": "code",
   "execution_count": 101,
   "metadata": {
    "colab": {},
    "colab_type": "code",
    "id": "jC0m718jgs_F"
   },
   "outputs": [
    {
     "name": "stderr",
     "output_type": "stream",
     "text": [
      "/home/tsuman/Program_Files/miniconda3.7/lib/python3.7/site-packages/matplotlib/pyplot.py:514: RuntimeWarning: More than 20 figures have been opened. Figures created through the pyplot interface (`matplotlib.pyplot.figure`) are retained until explicitly closed and may consume too much memory. (To control this warning, see the rcParam `figure.max_open_warning`).\n",
      "  max_open_warning, RuntimeWarning)\n"
     ]
    },
    {
     "data": {
      "text/plain": [
       "<Figure size 576x576 with 0 Axes>"
      ]
     },
     "metadata": {},
     "output_type": "display_data"
    },
    {
     "data": {
      "text/plain": [
       "<Figure size 576x576 with 0 Axes>"
      ]
     },
     "metadata": {},
     "output_type": "display_data"
    },
    {
     "data": {
      "text/plain": [
       "<Figure size 576x576 with 0 Axes>"
      ]
     },
     "metadata": {},
     "output_type": "display_data"
    },
    {
     "data": {
      "text/plain": [
       "<Figure size 576x576 with 0 Axes>"
      ]
     },
     "metadata": {},
     "output_type": "display_data"
    },
    {
     "data": {
      "text/plain": [
       "<Figure size 576x576 with 0 Axes>"
      ]
     },
     "metadata": {},
     "output_type": "display_data"
    },
    {
     "data": {
      "text/plain": [
       "<Figure size 576x576 with 0 Axes>"
      ]
     },
     "metadata": {},
     "output_type": "display_data"
    },
    {
     "data": {
      "text/plain": [
       "<Figure size 576x576 with 0 Axes>"
      ]
     },
     "metadata": {},
     "output_type": "display_data"
    },
    {
     "data": {
      "text/plain": [
       "<Figure size 576x576 with 0 Axes>"
      ]
     },
     "metadata": {},
     "output_type": "display_data"
    },
    {
     "data": {
      "text/plain": [
       "<Figure size 576x576 with 0 Axes>"
      ]
     },
     "metadata": {},
     "output_type": "display_data"
    },
    {
     "data": {
      "text/plain": [
       "<Figure size 576x576 with 0 Axes>"
      ]
     },
     "metadata": {},
     "output_type": "display_data"
    },
    {
     "data": {
      "text/plain": [
       "<Figure size 576x576 with 0 Axes>"
      ]
     },
     "metadata": {},
     "output_type": "display_data"
    },
    {
     "data": {
      "text/plain": [
       "<Figure size 576x576 with 0 Axes>"
      ]
     },
     "metadata": {},
     "output_type": "display_data"
    },
    {
     "data": {
      "text/plain": [
       "<Figure size 576x576 with 0 Axes>"
      ]
     },
     "metadata": {},
     "output_type": "display_data"
    },
    {
     "data": {
      "text/plain": [
       "<Figure size 576x576 with 0 Axes>"
      ]
     },
     "metadata": {},
     "output_type": "display_data"
    },
    {
     "data": {
      "text/plain": [
       "<Figure size 576x576 with 0 Axes>"
      ]
     },
     "metadata": {},
     "output_type": "display_data"
    },
    {
     "data": {
      "text/plain": [
       "<Figure size 576x576 with 0 Axes>"
      ]
     },
     "metadata": {},
     "output_type": "display_data"
    },
    {
     "data": {
      "text/plain": [
       "<Figure size 576x576 with 0 Axes>"
      ]
     },
     "metadata": {},
     "output_type": "display_data"
    },
    {
     "data": {
      "text/plain": [
       "<Figure size 576x576 with 0 Axes>"
      ]
     },
     "metadata": {},
     "output_type": "display_data"
    },
    {
     "data": {
      "text/plain": [
       "<Figure size 576x576 with 0 Axes>"
      ]
     },
     "metadata": {},
     "output_type": "display_data"
    },
    {
     "data": {
      "text/plain": [
       "<Figure size 576x576 with 0 Axes>"
      ]
     },
     "metadata": {},
     "output_type": "display_data"
    },
    {
     "data": {
      "text/plain": [
       "<Figure size 576x576 with 0 Axes>"
      ]
     },
     "metadata": {},
     "output_type": "display_data"
    },
    {
     "data": {
      "text/plain": [
       "<Figure size 576x576 with 0 Axes>"
      ]
     },
     "metadata": {},
     "output_type": "display_data"
    },
    {
     "data": {
      "text/plain": [
       "<Figure size 576x576 with 0 Axes>"
      ]
     },
     "metadata": {},
     "output_type": "display_data"
    },
    {
     "data": {
      "text/plain": [
       "<Figure size 576x576 with 0 Axes>"
      ]
     },
     "metadata": {},
     "output_type": "display_data"
    },
    {
     "data": {
      "text/plain": [
       "<Figure size 576x576 with 0 Axes>"
      ]
     },
     "metadata": {},
     "output_type": "display_data"
    },
    {
     "data": {
      "text/plain": [
       "<Figure size 576x576 with 0 Axes>"
      ]
     },
     "metadata": {},
     "output_type": "display_data"
    },
    {
     "data": {
      "text/plain": [
       "<Figure size 576x576 with 0 Axes>"
      ]
     },
     "metadata": {},
     "output_type": "display_data"
    },
    {
     "data": {
      "text/plain": [
       "<Figure size 576x576 with 0 Axes>"
      ]
     },
     "metadata": {},
     "output_type": "display_data"
    },
    {
     "data": {
      "text/plain": [
       "<Figure size 576x576 with 0 Axes>"
      ]
     },
     "metadata": {},
     "output_type": "display_data"
    },
    {
     "data": {
      "text/plain": [
       "<Figure size 576x576 with 0 Axes>"
      ]
     },
     "metadata": {},
     "output_type": "display_data"
    },
    {
     "data": {
      "text/plain": [
       "<Figure size 576x576 with 0 Axes>"
      ]
     },
     "metadata": {},
     "output_type": "display_data"
    },
    {
     "data": {
      "text/plain": [
       "<Figure size 576x576 with 0 Axes>"
      ]
     },
     "metadata": {},
     "output_type": "display_data"
    },
    {
     "data": {
      "text/plain": [
       "<Figure size 576x576 with 0 Axes>"
      ]
     },
     "metadata": {},
     "output_type": "display_data"
    },
    {
     "data": {
      "text/plain": [
       "<Figure size 576x576 with 0 Axes>"
      ]
     },
     "metadata": {},
     "output_type": "display_data"
    },
    {
     "data": {
      "text/plain": [
       "<Figure size 576x576 with 0 Axes>"
      ]
     },
     "metadata": {},
     "output_type": "display_data"
    },
    {
     "data": {
      "text/plain": [
       "<Figure size 576x576 with 0 Axes>"
      ]
     },
     "metadata": {},
     "output_type": "display_data"
    },
    {
     "data": {
      "text/plain": [
       "<Figure size 576x576 with 0 Axes>"
      ]
     },
     "metadata": {},
     "output_type": "display_data"
    },
    {
     "data": {
      "text/plain": [
       "<Figure size 576x576 with 0 Axes>"
      ]
     },
     "metadata": {},
     "output_type": "display_data"
    },
    {
     "data": {
      "text/plain": [
       "<Figure size 576x576 with 0 Axes>"
      ]
     },
     "metadata": {},
     "output_type": "display_data"
    },
    {
     "data": {
      "text/plain": [
       "<Figure size 576x576 with 0 Axes>"
      ]
     },
     "metadata": {},
     "output_type": "display_data"
    },
    {
     "data": {
      "text/plain": [
       "<Figure size 576x576 with 0 Axes>"
      ]
     },
     "metadata": {},
     "output_type": "display_data"
    },
    {
     "data": {
      "text/plain": [
       "<Figure size 576x576 with 0 Axes>"
      ]
     },
     "metadata": {},
     "output_type": "display_data"
    },
    {
     "data": {
      "text/plain": [
       "<Figure size 576x576 with 0 Axes>"
      ]
     },
     "metadata": {},
     "output_type": "display_data"
    },
    {
     "data": {
      "text/plain": [
       "<Figure size 576x576 with 0 Axes>"
      ]
     },
     "metadata": {},
     "output_type": "display_data"
    },
    {
     "data": {
      "text/plain": [
       "<Figure size 576x576 with 0 Axes>"
      ]
     },
     "metadata": {},
     "output_type": "display_data"
    },
    {
     "data": {
      "text/plain": [
       "<Figure size 576x576 with 0 Axes>"
      ]
     },
     "metadata": {},
     "output_type": "display_data"
    },
    {
     "data": {
      "text/plain": [
       "<Figure size 576x576 with 0 Axes>"
      ]
     },
     "metadata": {},
     "output_type": "display_data"
    },
    {
     "data": {
      "text/plain": [
       "<Figure size 576x576 with 0 Axes>"
      ]
     },
     "metadata": {},
     "output_type": "display_data"
    },
    {
     "data": {
      "text/plain": [
       "<Figure size 576x576 with 0 Axes>"
      ]
     },
     "metadata": {},
     "output_type": "display_data"
    },
    {
     "data": {
      "text/plain": [
       "<Figure size 576x576 with 0 Axes>"
      ]
     },
     "metadata": {},
     "output_type": "display_data"
    },
    {
     "data": {
      "text/plain": [
       "<Figure size 576x576 with 0 Axes>"
      ]
     },
     "metadata": {},
     "output_type": "display_data"
    },
    {
     "data": {
      "text/plain": [
       "<Figure size 576x576 with 0 Axes>"
      ]
     },
     "metadata": {},
     "output_type": "display_data"
    },
    {
     "data": {
      "text/plain": [
       "<Figure size 576x576 with 0 Axes>"
      ]
     },
     "metadata": {},
     "output_type": "display_data"
    },
    {
     "data": {
      "text/plain": [
       "<Figure size 576x576 with 0 Axes>"
      ]
     },
     "metadata": {},
     "output_type": "display_data"
    },
    {
     "data": {
      "text/plain": [
       "<Figure size 576x576 with 0 Axes>"
      ]
     },
     "metadata": {},
     "output_type": "display_data"
    },
    {
     "data": {
      "text/plain": [
       "<Figure size 576x576 with 0 Axes>"
      ]
     },
     "metadata": {},
     "output_type": "display_data"
    },
    {
     "data": {
      "text/plain": [
       "<Figure size 576x576 with 0 Axes>"
      ]
     },
     "metadata": {},
     "output_type": "display_data"
    },
    {
     "data": {
      "text/plain": [
       "<Figure size 576x576 with 0 Axes>"
      ]
     },
     "metadata": {},
     "output_type": "display_data"
    },
    {
     "data": {
      "text/plain": [
       "<Figure size 576x576 with 0 Axes>"
      ]
     },
     "metadata": {},
     "output_type": "display_data"
    },
    {
     "data": {
      "text/plain": [
       "<Figure size 576x576 with 0 Axes>"
      ]
     },
     "metadata": {},
     "output_type": "display_data"
    },
    {
     "data": {
      "text/plain": [
       "<Figure size 576x576 with 0 Axes>"
      ]
     },
     "metadata": {},
     "output_type": "display_data"
    },
    {
     "data": {
      "text/plain": [
       "<Figure size 576x576 with 0 Axes>"
      ]
     },
     "metadata": {},
     "output_type": "display_data"
    },
    {
     "data": {
      "text/plain": [
       "<Figure size 576x576 with 0 Axes>"
      ]
     },
     "metadata": {},
     "output_type": "display_data"
    },
    {
     "data": {
      "text/plain": [
       "<Figure size 576x576 with 0 Axes>"
      ]
     },
     "metadata": {},
     "output_type": "display_data"
    },
    {
     "data": {
      "text/plain": [
       "<Figure size 576x576 with 0 Axes>"
      ]
     },
     "metadata": {},
     "output_type": "display_data"
    },
    {
     "data": {
      "text/plain": [
       "<Figure size 576x576 with 0 Axes>"
      ]
     },
     "metadata": {},
     "output_type": "display_data"
    },
    {
     "data": {
      "text/plain": [
       "<Figure size 576x576 with 0 Axes>"
      ]
     },
     "metadata": {},
     "output_type": "display_data"
    },
    {
     "data": {
      "text/plain": [
       "<Figure size 576x576 with 0 Axes>"
      ]
     },
     "metadata": {},
     "output_type": "display_data"
    },
    {
     "data": {
      "text/plain": [
       "<Figure size 576x576 with 0 Axes>"
      ]
     },
     "metadata": {},
     "output_type": "display_data"
    },
    {
     "data": {
      "text/plain": [
       "<Figure size 576x576 with 0 Axes>"
      ]
     },
     "metadata": {},
     "output_type": "display_data"
    },
    {
     "data": {
      "text/plain": [
       "<Figure size 576x576 with 0 Axes>"
      ]
     },
     "metadata": {},
     "output_type": "display_data"
    },
    {
     "data": {
      "text/plain": [
       "<Figure size 576x576 with 0 Axes>"
      ]
     },
     "metadata": {},
     "output_type": "display_data"
    },
    {
     "data": {
      "text/plain": [
       "<Figure size 576x576 with 0 Axes>"
      ]
     },
     "metadata": {},
     "output_type": "display_data"
    },
    {
     "data": {
      "text/plain": [
       "<Figure size 576x576 with 0 Axes>"
      ]
     },
     "metadata": {},
     "output_type": "display_data"
    },
    {
     "data": {
      "text/plain": [
       "<Figure size 576x576 with 0 Axes>"
      ]
     },
     "metadata": {},
     "output_type": "display_data"
    },
    {
     "data": {
      "text/plain": [
       "<Figure size 576x576 with 0 Axes>"
      ]
     },
     "metadata": {},
     "output_type": "display_data"
    },
    {
     "data": {
      "text/plain": [
       "<Figure size 576x576 with 0 Axes>"
      ]
     },
     "metadata": {},
     "output_type": "display_data"
    },
    {
     "data": {
      "text/plain": [
       "<Figure size 576x576 with 0 Axes>"
      ]
     },
     "metadata": {},
     "output_type": "display_data"
    },
    {
     "data": {
      "text/plain": [
       "<Figure size 576x576 with 0 Axes>"
      ]
     },
     "metadata": {},
     "output_type": "display_data"
    },
    {
     "data": {
      "text/plain": [
       "<Figure size 576x576 with 0 Axes>"
      ]
     },
     "metadata": {},
     "output_type": "display_data"
    }
   ],
   "source": [
    "resizer = test.resizer\n",
    "for j,(ims, boxes, factors, index) in enumerate(test_loader):\n",
    "\n",
    "    index = index.cpu().numpy()\n",
    "    inputs = ims.cpu()\n",
    "    targets = boxes.cpu().numpy()\n",
    "    factors = factors.cpu().numpy()\n",
    "    outputs = model(inputs)\n",
    "    outputs = outputs.data.cpu().numpy()\n",
    "\n",
    "    for indx in range(len(outputs)):\n",
    "        loader_indx = index[indx]\n",
    "        factor = factors[indx]\n",
    "\n",
    "        path= test.imgs[loader_indx]\n",
    "        img = Image.open(path).convert('RGB')\n",
    "        resizer.rescale_factor=factor[0]\n",
    "        resizer.shift_h=factor[1]\n",
    "        resizer.shift_w=factor[2]\n",
    "\n",
    "        targ = test.boxes[loader_indx]\n",
    "        targ = np.append(targ, targ[:2]).reshape(-1,2)\n",
    "\n",
    "        out = outputs[indx]\n",
    "        out = resizer.undo_box(out)\n",
    "        out = np.append(out, out[:2]).reshape(-1,2)\n",
    "\n",
    "        plt.figure(figsize=(8, 8))\n",
    "        plt.imshow(img)\n",
    "        plt.plot(targ[:,0], targ[:,1], lw=3, c='g')\n",
    "        plt.plot(out[:,0], out[:,1], lw=3, c='r')\n",
    "        plt.savefig(\"pred_\"+path)\n",
    "        plt.clf()"
   ]
  },
  {
   "cell_type": "code",
   "execution_count": null,
   "metadata": {
    "colab": {},
    "colab_type": "code",
    "id": "QZDh9D0UOFG2"
   },
   "outputs": [],
   "source": []
  }
 ],
 "metadata": {
  "accelerator": "GPU",
  "colab": {
   "collapsed_sections": [],
   "name": "Localization_Model_v0.ipynb",
   "provenance": [],
   "version": "0.3.2"
  },
  "kernelspec": {
   "display_name": "Python 3",
   "language": "python",
   "name": "python3"
  },
  "language_info": {
   "codemirror_mode": {
    "name": "ipython",
    "version": 3
   },
   "file_extension": ".py",
   "mimetype": "text/x-python",
   "name": "python",
   "nbconvert_exporter": "python",
   "pygments_lexer": "ipython3",
   "version": "3.7.3"
  }
 },
 "nbformat": 4,
 "nbformat_minor": 1
}
