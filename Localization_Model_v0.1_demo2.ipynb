{
 "cells": [
  {
   "cell_type": "markdown",
   "metadata": {
    "colab_type": "text",
    "id": "5Nbz2xj6UT42"
   },
   "source": [
    "On final dataset, using only labeled images ; Resnet18 -> Linear"
   ]
  },
  {
   "cell_type": "code",
   "execution_count": 1,
   "metadata": {
    "colab": {},
    "colab_type": "code",
    "id": "_FsPlBygKHxW"
   },
   "outputs": [],
   "source": [
    "import numpy as np\n",
    "import pandas as pd\n",
    "import torch\n",
    "import torch.nn as nn\n",
    "import torch.nn.functional as F\n",
    "import matplotlib.pyplot as plt\n",
    "%matplotlib inline\n",
    "\n",
    "from torch.utils.data import Dataset\n",
    "from torch.optim import lr_scheduler\n",
    "from torchvision import datasets, models, transforms\n",
    "from PIL import Image # pip3 install pillow\n",
    "import random\n",
    "import cv2\n",
    "import time\n",
    "import os"
   ]
  },
  {
   "cell_type": "code",
   "execution_count": 2,
   "metadata": {},
   "outputs": [
    {
     "data": {
      "text/plain": [
       "(12, 'images/302_img.png')"
      ]
     },
     "execution_count": 2,
     "metadata": {},
     "output_type": "execute_result"
    }
   ],
   "source": [
    "img_folder = \"images/\"\n",
    "imlist = []\n",
    "imlist =[os.path.join(img_folder, f) for f in os.listdir(img_folder) \n",
    "         if os.path.isfile(os.path.join(img_folder, f))]\n",
    "len(imlist), imlist[0]"
   ]
  },
  {
   "cell_type": "code",
   "execution_count": 3,
   "metadata": {},
   "outputs": [
    {
     "name": "stdout",
     "output_type": "stream",
     "text": [
      "12 12\n"
     ]
    },
    {
     "data": {
      "text/html": [
       "<div>\n",
       "<style scoped>\n",
       "    .dataframe tbody tr th:only-of-type {\n",
       "        vertical-align: middle;\n",
       "    }\n",
       "\n",
       "    .dataframe tbody tr th {\n",
       "        vertical-align: top;\n",
       "    }\n",
       "\n",
       "    .dataframe thead th {\n",
       "        text-align: right;\n",
       "    }\n",
       "</style>\n",
       "<table border=\"1\" class=\"dataframe\">\n",
       "  <thead>\n",
       "    <tr style=\"text-align: right;\">\n",
       "      <th></th>\n",
       "      <th>image</th>\n",
       "      <th>points</th>\n",
       "    </tr>\n",
       "  </thead>\n",
       "  <tbody>\n",
       "    <tr>\n",
       "      <th>0</th>\n",
       "      <td>images/302_img.png</td>\n",
       "      <td>0</td>\n",
       "    </tr>\n",
       "    <tr>\n",
       "      <th>1</th>\n",
       "      <td>images/116_img.png</td>\n",
       "      <td>0</td>\n",
       "    </tr>\n",
       "    <tr>\n",
       "      <th>2</th>\n",
       "      <td>images/177_img.png</td>\n",
       "      <td>0</td>\n",
       "    </tr>\n",
       "    <tr>\n",
       "      <th>3</th>\n",
       "      <td>images/75_img.png</td>\n",
       "      <td>0</td>\n",
       "    </tr>\n",
       "    <tr>\n",
       "      <th>4</th>\n",
       "      <td>images/246_img.png</td>\n",
       "      <td>0</td>\n",
       "    </tr>\n",
       "  </tbody>\n",
       "</table>\n",
       "</div>"
      ],
      "text/plain": [
       "                image  points\n",
       "0  images/302_img.png       0\n",
       "1  images/116_img.png       0\n",
       "2  images/177_img.png       0\n",
       "3   images/75_img.png       0\n",
       "4  images/246_img.png       0"
      ]
     },
     "execution_count": 3,
     "metadata": {},
     "output_type": "execute_result"
    }
   ],
   "source": [
    "df_test = pd.DataFrame(data=imlist, columns=[\"image\"])\n",
    "df_test['points'] = [0 for _ in imlist]\n",
    "print(len(imlist), len(df_test))\n",
    "df_test.head()"
   ]
  },
  {
   "cell_type": "markdown",
   "metadata": {
    "colab_type": "text",
    "id": "5-mKB_zRKHxo"
   },
   "source": [
    "### Image Transform"
   ]
  },
  {
   "cell_type": "code",
   "execution_count": 4,
   "metadata": {
    "colab": {},
    "colab_type": "code",
    "id": "3Xe7PAzKKHxo"
   },
   "outputs": [],
   "source": [
    "class ResizeAspect(object):\n",
    "    def __init__(self, h, w):\n",
    "        self.hw = (h, w)\n",
    "        self.rescale_factor=None\n",
    "        self.shift_h=None\n",
    "        self.shift_w=None\n",
    "        \n",
    "    def do_image(self, img):\n",
    "        h, w = self.hw\n",
    "        img_h, img_w = img.shape[0], img.shape[1]\n",
    "        rescale_factor = min(w/img_w, h/img_h)\n",
    "        new_w = int(img_w * rescale_factor)\n",
    "        new_h = int(img_h * rescale_factor)\n",
    "        resized_image = cv2.resize(img, (new_w,new_h), interpolation = cv2.INTER_CUBIC)\n",
    "\n",
    "        canvas = np.full((h, w, 3), 128, dtype=np.uint8)\n",
    "        shift_h = (h-new_h)//2\n",
    "        shift_w = (w-new_w)//2\n",
    "        canvas[(h-new_h)//2:(h-new_h)//2 + new_h,(w-new_w)//2:(w-new_w)//2 + new_w,  :] = resized_image\n",
    "        img = canvas.copy()\n",
    "        self.rescale_factor=rescale_factor\n",
    "        self.shift_h = shift_h\n",
    "        self.shift_w = shift_w\n",
    "        return img\n",
    "    \n",
    "    def do_box(self, box):\n",
    "        box = box.reshape(-1,2)\n",
    "        box *=self.rescale_factor\n",
    "        box[: ,0] += self.shift_w\n",
    "        box[: ,1] += self.shift_h\n",
    "        box = box.reshape(-1)\n",
    "        return box\n",
    "    \n",
    "    def undo_box(self, box):\n",
    "        box = box.reshape(-1,2)\n",
    "        box[: ,0] -= self.shift_w\n",
    "        box[: ,1] -= self.shift_h\n",
    "        box /=self.rescale_factor\n",
    "        box = box.reshape(-1)\n",
    "        return box"
   ]
  },
  {
   "cell_type": "code",
   "execution_count": 5,
   "metadata": {
    "colab": {},
    "colab_type": "code",
    "id": "9szOaV5wKHxs"
   },
   "outputs": [],
   "source": [
    "class FinalTransform:\n",
    "    def __init__(self):\n",
    "        self.transform = transforms.Compose([\n",
    "            transforms.ToTensor(),\n",
    "            transforms.Normalize(mean=[0.485, 0.456, 0.406],\n",
    "                                 std=[0.229, 0.224, 0.225])])\n",
    "    \n",
    "    def transform_inv(self,img):\n",
    "        inp = img.numpy().transpose((1, 2, 0))\n",
    "        mean = np.array([0.485, 0.456, 0.406])\n",
    "        std = np.array([0.229, 0.224, 0.225])\n",
    "        inp = std * inp + mean\n",
    "        inp = np.clip(inp, 0, 1)\n",
    "        return inp"
   ]
  },
  {
   "cell_type": "markdown",
   "metadata": {
    "colab_type": "text",
    "id": "niEfDCspKHxv"
   },
   "source": [
    "### Dataset Loader"
   ]
  },
  {
   "cell_type": "code",
   "execution_count": 6,
   "metadata": {
    "colab": {},
    "colab_type": "code",
    "id": "Jsd-VuCkKHxv"
   },
   "outputs": [],
   "source": [
    "class LicenseDataset(Dataset):\n",
    "    def __init__(self, df):\n",
    "        \n",
    "        self.imgs = list(df.image)\n",
    "        self.boxes = df.points.tolist()\n",
    "        self.final_transform = FinalTransform()\n",
    "        self.transform = self.final_transform.transform\n",
    "        self.transform_inv = self.final_transform.transform_inv\n",
    "        self.resizer = ResizeAspect(h=224, w=224)\n",
    "            \n",
    "    def __getitem__(self, index):\n",
    "        path= self.imgs[index]\n",
    "        box = self.boxes[index]\n",
    "        \n",
    "        \n",
    "        img = Image.open(path).convert('RGB')\n",
    "        img = self.resizer.do_image(np.array(img))\n",
    "        img = self.final_transform.transform(img)\n",
    "#         box = self.resizer.do_box(box)\n",
    "        box = np.array(box, dtype=np.float32)\n",
    "\n",
    "        factor = np.array(\n",
    "            [self.resizer.rescale_factor, self.resizer.shift_h, self.resizer.shift_w],\n",
    "            dtype=np.float32\n",
    "        )\n",
    "        return img, box, factor, index\n",
    "      \n",
    "    \n",
    "    def __len__(self):\n",
    "        return len(self.imgs)"
   ]
  },
  {
   "cell_type": "code",
   "execution_count": 7,
   "metadata": {
    "colab": {},
    "colab_type": "code",
    "id": "Q__KgwU1KHyB"
   },
   "outputs": [],
   "source": [
    "test = LicenseDataset(df_test)"
   ]
  },
  {
   "cell_type": "code",
   "execution_count": 8,
   "metadata": {
    "colab": {},
    "colab_type": "code",
    "id": "jKrQ6UJlKHyI"
   },
   "outputs": [],
   "source": [
    "test_loader = torch.utils.data.DataLoader(\n",
    "                test, batch_size=32,shuffle=False,\n",
    "                num_workers=4, pin_memory=True)"
   ]
  },
  {
   "cell_type": "markdown",
   "metadata": {
    "colab_type": "text",
    "id": "LpduTwnOKHyL"
   },
   "source": [
    "### Defining Model"
   ]
  },
  {
   "cell_type": "code",
   "execution_count": 9,
   "metadata": {
    "colab": {},
    "colab_type": "code",
    "id": "48sFrjXrKHyL"
   },
   "outputs": [],
   "source": [
    "model = models.resnet18(pretrained=True)\n",
    "'''\n",
    "output of our model is :\n",
    "x1, y1,\n",
    "x2, y2,\n",
    "x3, y3,\n",
    "x4, y4,\n",
    "conf -> only when no bounding box images are taken\n",
    "'''\n",
    "num_feature = model.fc.in_features\n",
    "num_output = 8#9\n",
    "model.fc = nn.Linear(num_feature, num_output)\n",
    "model = model.cpu()"
   ]
  },
  {
   "cell_type": "code",
   "execution_count": 10,
   "metadata": {
    "colab": {},
    "colab_type": "code",
    "id": "XczjvxsXKHyU"
   },
   "outputs": [
    {
     "data": {
      "text/plain": [
       "IncompatibleKeys(missing_keys=[], unexpected_keys=[])"
      ]
     },
     "execution_count": 10,
     "metadata": {},
     "output_type": "execute_result"
    }
   ],
   "source": [
    "model.load_state_dict(torch.load('saved_states/model_state_v0.pth', map_location='cpu'))"
   ]
  },
  {
   "cell_type": "code",
   "execution_count": 11,
   "metadata": {
    "colab": {
     "base_uri": "https://localhost:8080/",
     "height": 34
    },
    "colab_type": "code",
    "id": "aRB_bJN6U7Z0",
    "outputId": "500da7d5-7089-444c-90dd-7d788dc457a6"
   },
   "outputs": [
    {
     "name": "stdout",
     "output_type": "stream",
     "text": [
      "Working in test mode\n"
     ]
    }
   ],
   "source": [
    "test_batch = 0\n",
    "indx = -1\n",
    "model.eval()\n",
    "print('Working in test mode')"
   ]
  },
  {
   "cell_type": "code",
   "execution_count": 30,
   "metadata": {
    "colab": {},
    "colab_type": "code",
    "id": "jC0m718jgs_F"
   },
   "outputs": [
    {
     "name": "stdout",
     "output_type": "stream",
     "text": [
      "finished prediction\n"
     ]
    }
   ],
   "source": [
    "resizer = test.resizer\n",
    "for j,(ims, boxes, factors, index) in enumerate(test_loader):\n",
    "\n",
    "    index = index.cpu().numpy()\n",
    "    inputs = ims.cpu()\n",
    "    factors = factors.cpu().numpy()\n",
    "    outputs = model(inputs)\n",
    "    outputs = outputs.data.cpu().numpy()\n",
    "\n",
    "    for indx in range(len(outputs)):\n",
    "        loader_indx = index[indx]\n",
    "        factor = factors[indx]\n",
    "\n",
    "        path= test.imgs[loader_indx]\n",
    "        img = Image.open(path).convert('RGB')\n",
    "        resizer.rescale_factor=factor[0]\n",
    "        resizer.shift_h=factor[1]\n",
    "        resizer.shift_w=factor[2]\n",
    "\n",
    "        out = outputs[indx]\n",
    "        out = resizer.undo_box(out)\n",
    "        out = np.append(out, out[:2]).reshape(-1,2)\n",
    "        \n",
    "        img = cv2.cvtColor(np.array(img), cv2.COLOR_RGB2BGR)\n",
    "        for i in range(len(out)-1):\n",
    "            img = cv2.line(img, tuple(out[i]), tuple(out[i+1]), color=(0,255,100), thickness=2)\n",
    "        cv2.imwrite(path.replace(\"images\", \"prediction\"), img)\n",
    "print('finished prediction')"
   ]
  },
  {
   "cell_type": "code",
   "execution_count": null,
   "metadata": {
    "colab": {},
    "colab_type": "code",
    "id": "QZDh9D0UOFG2"
   },
   "outputs": [],
   "source": []
  }
 ],
 "metadata": {
  "accelerator": "GPU",
  "colab": {
   "collapsed_sections": [],
   "name": "Localization_Model_v0.ipynb",
   "provenance": [],
   "version": "0.3.2"
  },
  "kernelspec": {
   "display_name": "Python 3",
   "language": "python",
   "name": "python3"
  },
  "language_info": {
   "codemirror_mode": {
    "name": "ipython",
    "version": 3
   },
   "file_extension": ".py",
   "mimetype": "text/x-python",
   "name": "python",
   "nbconvert_exporter": "python",
   "pygments_lexer": "ipython3",
   "version": "3.7.3"
  }
 },
 "nbformat": 4,
 "nbformat_minor": 1
}
