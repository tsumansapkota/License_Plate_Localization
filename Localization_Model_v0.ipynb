{
 "cells": [
  {
   "cell_type": "markdown",
   "metadata": {
    "colab_type": "text",
    "id": "5Nbz2xj6UT42"
   },
   "source": [
    "On final dataset, using only labeled images ; Resnet18 -> Linear"
   ]
  },
  {
   "cell_type": "code",
   "execution_count": 1,
   "metadata": {
    "colab": {},
    "colab_type": "code",
    "id": "_FsPlBygKHxW"
   },
   "outputs": [],
   "source": [
    "import numpy as np\n",
    "import pandas as pd\n",
    "import torch\n",
    "import torch.nn as nn\n",
    "import torch.nn.functional as F\n",
    "import matplotlib.pyplot as plt\n",
    "%matplotlib inline\n",
    "\n",
    "from torch.utils.data import Dataset\n",
    "from torch.optim import lr_scheduler\n",
    "from torchvision import datasets, models, transforms\n",
    "from PIL import Image\n",
    "import random\n",
    "import cv2\n",
    "import progressbar\n",
    "import time\n",
    "import os"
   ]
  },
  {
   "cell_type": "code",
   "execution_count": 2,
   "metadata": {
    "colab": {
     "base_uri": "https://localhost:8080/",
     "height": 153
    },
    "colab_type": "code",
    "id": "1RC2tw5lKHxb",
    "outputId": "3d30ea49-59c9-4304-fb66-fb6bff16c1ef"
   },
   "outputs": [
    {
     "name": "stdout",
     "output_type": "stream",
     "text": [
      "<class 'pandas.core.frame.DataFrame'>\n",
      "RangeIndex: 8090 entries, 0 to 8089\n",
      "Data columns (total 3 columns):\n",
      "image      8090 non-null object\n",
      "points     8090 non-null object\n",
      "labeled    8090 non-null int64\n",
      "dtypes: int64(1), object(2)\n",
      "memory usage: 189.7+ KB\n"
     ]
    }
   ],
   "source": [
    "df = pd.read_pickle(\"data/dataset.pkl\")\n",
    "df.info()"
   ]
  },
  {
   "cell_type": "code",
   "execution_count": 3,
   "metadata": {
    "colab": {
     "base_uri": "https://localhost:8080/",
     "height": 136
    },
    "colab_type": "code",
    "id": "VYlp0Sy3KHxg",
    "outputId": "05ad13d9-828e-41cd-c990-3dbc37cb7982"
   },
   "outputs": [
    {
     "name": "stdout",
     "output_type": "stream",
     "text": [
      "<class 'pandas.core.frame.DataFrame'>\n",
      "RangeIndex: 5576 entries, 0 to 5575\n",
      "Data columns (total 2 columns):\n",
      "image     5576 non-null object\n",
      "points    5576 non-null object\n",
      "dtypes: object(2)\n",
      "memory usage: 87.2+ KB\n"
     ]
    }
   ],
   "source": [
    "# Removing the labeled column and unlabeled rows\n",
    "todrop = []\n",
    "for i in range(len(df)):\n",
    "    if df.iloc[i].labeled == 0:\n",
    "        todrop.append(i)\n",
    "df = df.drop(index=todrop)\n",
    "df = df.drop(columns=['labeled'])\n",
    "df = df.reset_index(drop=True)\n",
    "df.info()"
   ]
  },
  {
   "cell_type": "code",
   "execution_count": 4,
   "metadata": {
    "colab": {
     "base_uri": "https://localhost:8080/",
     "height": 136
    },
    "colab_type": "code",
    "id": "OTJAR1akX-BO",
    "outputId": "8ff5addb-8efe-49af-e5f6-21722aa9517b"
   },
   "outputs": [
    {
     "name": "stdout",
     "output_type": "stream",
     "text": [
      "<class 'pandas.core.frame.DataFrame'>\n",
      "Int64Index: 5576 entries, 0 to 5575\n",
      "Data columns (total 2 columns):\n",
      "image     5576 non-null object\n",
      "points    5576 non-null object\n",
      "dtypes: object(2)\n",
      "memory usage: 130.7+ KB\n"
     ]
    }
   ],
   "source": [
    "# drop the image data that is not found in folder\n",
    "drop_indx = []\n",
    "for i in range(len(df)):\n",
    "  img = df.iloc[i].image\n",
    "  if not os.path.isfile(img):\n",
    "    drop_indx.append(i)\n",
    "df = df.drop(drop_indx)\n",
    "df.info()"
   ]
  },
  {
   "cell_type": "markdown",
   "metadata": {
    "colab_type": "text",
    "id": "INMko7t7KHxk"
   },
   "source": [
    "### Utilities"
   ]
  },
  {
   "cell_type": "code",
   "execution_count": 5,
   "metadata": {
    "colab": {},
    "colab_type": "code",
    "id": "3TywrFzPKHxl"
   },
   "outputs": [],
   "source": [
    "def to_2d_tensor(inp):\n",
    "    inp = torch.Tensor(inp)\n",
    "    if len(inp.size()) < 2:\n",
    "        inp = inp.unsqueeze(0)\n",
    "    return inp\n",
    "\n",
    "def xywh_to_x1y1x2y2(boxes):\n",
    "    boxes = to_2d_tensor(boxes)\n",
    "    boxes[:, 2] += boxes[:, 0] - 1\n",
    "    boxes[:, 3] += boxes[:, 1] - 1\n",
    "    return boxes\n",
    "\n",
    "def x1y1x2y2_to_xywh(boxes):\n",
    "    boxes = to_2d_tensor(boxes)\n",
    "    boxes[:, 2] -= boxes[:, 0] - 1\n",
    "    boxes[:, 3] -= boxes[:, 1] - 1\n",
    "    return boxes\n",
    "\n",
    "def crop_boxes(boxes, im_sizes):\n",
    "    boxes = to_2d_tensor(boxes)\n",
    "    im_sizes = to_2d_tensor(im_sizes)\n",
    "    boxes = xywh_to_x1y1x2y2(boxes)\n",
    "    zero = torch.Tensor([0])\n",
    "    boxes[:, 0] = torch.max(torch.min(boxes[:, 0], im_sizes[:, 0]), zero)\n",
    "    boxes[:, 1] = torch.max(torch.min(boxes[:, 1], im_sizes[:, 1]), zero)\n",
    "    boxes[:, 2] = torch.max(torch.min(boxes[:, 2], im_sizes[:, 0]), zero)\n",
    "    boxes[:, 3] = torch.max(torch.min(boxes[:, 3], im_sizes[:, 1]), zero)\n",
    "    boxes = x1y1x2y2_to_xywh(boxes)\n",
    "    return boxes\n",
    "\n",
    "def box_transform(boxes, im_sizes):\n",
    "    # box in (x, y, w, h) format\n",
    "    boxes = to_2d_tensor(boxes)\n",
    "    im_sizes = to_2d_tensor(im_sizes)\n",
    "    boxes[:, 0] = 2 * boxes[:, 0] / im_sizes[:, 0] - 1\n",
    "    boxes[:, 1] = 2 * boxes[:, 1] / im_sizes[:, 1] - 1\n",
    "    boxes[:, 2] = 2 * boxes[:, 2] / im_sizes[:, 0]\n",
    "    boxes[:, 3] = 2 * boxes[:, 3] / im_sizes[:, 1]\n",
    "    return boxes\n",
    "\n",
    "def box_transform_inv(boxes, im_sizes):\n",
    "    # box in (x, y, w, h) format\n",
    "    boxes = to_2d_tensor(boxes)\n",
    "    im_sizes = to_2d_tensor(im_sizes)\n",
    "    boxes[:, 0] = (boxes[:, 0] + 1) / 2 * im_sizes[:, 0]\n",
    "    boxes[:, 1] = (boxes[:, 1] + 1) / 2 * im_sizes[:, 1]\n",
    "    boxes[:, 2] = boxes[:, 2] / 2 * im_sizes[:, 0]\n",
    "    boxes[:, 3] = boxes[:, 3] / 2 * im_sizes[:, 1]\n",
    "    return boxes\n",
    "\n",
    "def compute_IoU(boxes1, boxes2):\n",
    "    boxes1 = to_2d_tensor(boxes1)\n",
    "    boxes1 = xywh_to_x1y1x2y2(boxes1)\n",
    "    boxes2 = to_2d_tensor(boxes2)\n",
    "    boxes2 = xywh_to_x1y1x2y2(boxes2)\n",
    "    \n",
    "    intersec = boxes1.clone()\n",
    "    intersec[:, 0] = torch.max(boxes1[:, 0], boxes2[:, 0])\n",
    "    intersec[:, 1] = torch.max(boxes1[:, 1], boxes2[:, 1])\n",
    "    intersec[:, 2] = torch.min(boxes1[:, 2], boxes2[:, 2])\n",
    "    intersec[:, 3] = torch.min(boxes1[:, 3], boxes2[:, 3])\n",
    "    \n",
    "    def compute_area(boxes):\n",
    "        # in (x1, y1, x2, y2) format\n",
    "        dx = boxes[:, 2] - boxes[:, 0]\n",
    "        dx[dx < 0] = 0\n",
    "        dy = boxes[:, 3] - boxes[:, 1]\n",
    "        dy[dy < 0] = 0\n",
    "        return dx * dy\n",
    "    \n",
    "    a1 = compute_area(boxes1)\n",
    "    a2 = compute_area(boxes2)\n",
    "    ia = compute_area(intersec)\n",
    "    assert((a1 + a2 - ia <= 0).sum() == 0)\n",
    "    \n",
    "    return ia / (a1 + a2 - ia)    \n",
    "\n",
    "def compute_acc(preds, targets, im_sizes, theta=0.75):\n",
    "    preds = box_transform_inv(preds.clone(), im_sizes)\n",
    "    preds = crop_boxes(preds, im_sizes)\n",
    "    targets = box_transform_inv(targets.clone(), im_sizes)\n",
    "    IoU = compute_IoU(preds, targets)\n",
    "    corr = (IoU >= theta).sum()\n",
    "    return corr / preds.size(0)\n",
    "\n",
    "class AverageMeter(object):\n",
    "    def __init__(self):\n",
    "        self.reset()\n",
    "        \n",
    "    def reset(self):\n",
    "        self.val = 0\n",
    "        self.avg = 0\n",
    "        self.sum = 0\n",
    "        self.cnt = 0\n",
    "        \n",
    "    def update(self, val, n=1):\n",
    "        self.val = val\n",
    "        self.sum += val * n\n",
    "        self.cnt += n\n",
    "        self.avg = self.sum / self.cnt"
   ]
  },
  {
   "cell_type": "markdown",
   "metadata": {
    "colab_type": "text",
    "id": "5-mKB_zRKHxo"
   },
   "source": [
    "### Image Transform"
   ]
  },
  {
   "cell_type": "code",
   "execution_count": 6,
   "metadata": {
    "colab": {},
    "colab_type": "code",
    "id": "3Xe7PAzKKHxo"
   },
   "outputs": [],
   "source": [
    "class ResizeAspect(object):\n",
    "    def __init__(self, h, w):\n",
    "        self.rescale_factor=None\n",
    "        self.shift_w=None\n",
    "        self.shift_h=None\n",
    "        self.hw = (h, w)\n",
    "        \n",
    "    def do_image(self,img):\n",
    "        h, w = self.hw\n",
    "        img_h, img_w = img.shape[0], img.shape[1]\n",
    "        rescale_factor = min(w/img_w, h/img_h)\n",
    "        new_w = int(img_w * rescale_factor)\n",
    "        new_h = int(img_h * rescale_factor)\n",
    "        resized_image = cv2.resize(img, (new_w,new_h), interpolation = cv2.INTER_CUBIC)\n",
    "\n",
    "        canvas = np.full((h, w, 3), 128, dtype=np.uint8)\n",
    "        shift_h = (h-new_h)//2\n",
    "        shift_w = (w-new_w)//2\n",
    "        canvas[(h-new_h)//2:(h-new_h)//2 + new_h,(w-new_w)//2:(w-new_w)//2 + new_w,  :] = resized_image\n",
    "        img = canvas.copy()\n",
    "        self.rescale_factor=rescale_factor\n",
    "        self.shift_h = shift_h\n",
    "        self.shift_w = shift_w\n",
    "        return img\n",
    "    \n",
    "    def do_box(self, box):\n",
    "#         if self.rescale_factor is None:\n",
    "#             print('The image is not scaled, do_image first!!')\n",
    "#             return\n",
    "        box = box.reshape(-1,2)\n",
    "        box *=self.rescale_factor\n",
    "        box[: ,0] += self.shift_w\n",
    "        box[: ,1] += self.shift_h\n",
    "        box = box.reshape(-1)\n",
    "        return box\n",
    "    \n",
    "    def undo_box(self, box):\n",
    "        box = box.reshape(-1,2)\n",
    "        box[: ,0] -= self.shift_w\n",
    "        box[: ,1] -= self.shift_h\n",
    "        box /=self.rescale_factor\n",
    "        box = box.reshape(-1)\n",
    "        return box\n",
    "    \n",
    "    \n",
    "# class ImageData(object):\n",
    "    \n",
    "#     def __init__(self, img_dir, box):\n",
    "#         self.img_dir = img_dir\n",
    "#         self.box = box\n",
    "#         self.img = None\n",
    "#         self._load_img()\n",
    "        \n",
    "#     def _load_img(self):\n",
    "#         self.img = Image.open(self.img_dir).convert('RGB')\n",
    "#         self.img = np.array(img)"
   ]
  },
  {
   "cell_type": "code",
   "execution_count": 7,
   "metadata": {
    "colab": {},
    "colab_type": "code",
    "id": "9szOaV5wKHxs"
   },
   "outputs": [],
   "source": [
    "class FinalTransform:\n",
    "    def __init__(self):\n",
    "        self.transform = transforms.Compose([\n",
    "            transforms.ToTensor(),\n",
    "            transforms.Normalize(mean=[0.485, 0.456, 0.406],\n",
    "                                 std=[0.229, 0.224, 0.225])])\n",
    "    \n",
    "    def transform_inv(self,img):\n",
    "        inp = img.numpy().transpose((1, 2, 0))\n",
    "        mean = np.array([0.485, 0.456, 0.406])\n",
    "        std = np.array([0.229, 0.224, 0.225])\n",
    "        inp = std * inp + mean\n",
    "        inp = np.clip(inp, 0, 1)\n",
    "        return inp"
   ]
  },
  {
   "cell_type": "markdown",
   "metadata": {
    "colab_type": "text",
    "id": "niEfDCspKHxv"
   },
   "source": [
    "### Dataset Loader"
   ]
  },
  {
   "cell_type": "code",
   "execution_count": 8,
   "metadata": {
    "colab": {},
    "colab_type": "code",
    "id": "Jsd-VuCkKHxv"
   },
   "outputs": [],
   "source": [
    "class LicenseDataset(Dataset):\n",
    "    def __init__(self, df):\n",
    "        \n",
    "        self.imgs = list(df.image)\n",
    "        self.boxes = df.points.tolist()\n",
    "#         self.labeled = df.labeled.tolist()\n",
    "        self.final_transform = FinalTransform()\n",
    "        self.transform = self.final_transform.transform\n",
    "#         self.transform = transforms.Compose([\n",
    "# #                 transforms.Resize((224, 224)),\n",
    "#             transforms.ToTensor(),\n",
    "#             transforms.Normalize(mean=[0.485, 0.456, 0.406],\n",
    "#                                  std=[0.229, 0.224, 0.225])\n",
    "#         ])\n",
    "        \n",
    "    def transform_inv(self,img):\n",
    "        inp = img.numpy().transpose((1, 2, 0))\n",
    "        mean = np.array([0.485, 0.456, 0.406])\n",
    "        std = np.array([0.229, 0.224, 0.225])\n",
    "        inp = std * inp + mean\n",
    "        inp = np.clip(inp, 0, 1)\n",
    "        return inp\n",
    "            \n",
    "    def __getitem__(self, index):\n",
    "        path= self.imgs[index]\n",
    "        box = self.boxes[index]\n",
    "        \n",
    "        img = Image.open(path).convert('RGB')\n",
    "        resizer = ResizeAspect(h=224, w=224)\n",
    "        img = resizer.do_image(np.array(img))\n",
    "        img = self.final_transform.transform(img)\n",
    "        box = resizer.do_box(box)\n",
    "        box = np.array(box, dtype=np.float32)\n",
    "        \n",
    "#         return img, box , resizer\n",
    "        return img, box\n",
    "      \n",
    "    \n",
    "    def __len__(self):\n",
    "        return len(self.imgs)"
   ]
  },
  {
   "cell_type": "code",
   "execution_count": 9,
   "metadata": {
    "colab": {},
    "colab_type": "code",
    "id": "YI_je_5WKHx0"
   },
   "outputs": [],
   "source": [
    "def train_test_split(df, test_size=0.1):\n",
    "    if isinstance(test_size, float):\n",
    "        test_size = int(test_size * len(df))\n",
    "\n",
    "    indices = df.index.tolist()\n",
    "    test_indices = random.sample(population=indices, k=test_size)\n",
    "\n",
    "    test_df = df.loc[test_indices]\n",
    "    train_df = df.drop(test_indices)\n",
    "    return train_df, test_df"
   ]
  },
  {
   "cell_type": "code",
   "execution_count": 10,
   "metadata": {
    "colab": {},
    "colab_type": "code",
    "id": "ElXaECDIKHx6"
   },
   "outputs": [],
   "source": [
    "train_df, test_df = train_test_split(df, test_size=0.1)"
   ]
  },
  {
   "cell_type": "code",
   "execution_count": 11,
   "metadata": {
    "colab": {},
    "colab_type": "code",
    "id": "Q__KgwU1KHyB"
   },
   "outputs": [],
   "source": [
    "train = LicenseDataset(train_df)\n",
    "test = LicenseDataset(test_df)"
   ]
  },
  {
   "cell_type": "code",
   "execution_count": 12,
   "metadata": {
    "colab": {},
    "colab_type": "code",
    "id": "KV6BKiTGKHyF"
   },
   "outputs": [],
   "source": [
    "# ind = random.choice(range(len(train_df)))\n",
    "# img, box, img_size = train[ind]\n",
    "\n",
    "# box = np.append(box, box[:2]).reshape(-1,2)\n",
    "# img = train.final_transform.transform_inv(img)\n",
    "\n",
    "# plt.imshow(img)\n",
    "# plt.plot(box[:,0], box[:,1], lw=3, c='g')"
   ]
  },
  {
   "cell_type": "code",
   "execution_count": 13,
   "metadata": {
    "colab": {},
    "colab_type": "code",
    "id": "jKrQ6UJlKHyI"
   },
   "outputs": [],
   "source": [
    "train_loader = torch.utils.data.DataLoader(\n",
    "                train, batch_size=32,shuffle=True,\n",
    "                num_workers=2, pin_memory=True)\n",
    "test_loader = torch.utils.data.DataLoader(\n",
    "                test, batch_size=32,shuffle=False,\n",
    "                num_workers=2, pin_memory=True)"
   ]
  },
  {
   "cell_type": "markdown",
   "metadata": {
    "colab_type": "text",
    "id": "LpduTwnOKHyL"
   },
   "source": [
    "### Defining Model"
   ]
  },
  {
   "cell_type": "code",
   "execution_count": 14,
   "metadata": {
    "colab": {},
    "colab_type": "code",
    "id": "48sFrjXrKHyL"
   },
   "outputs": [],
   "source": [
    "model = models.resnet18(pretrained=True)\n",
    "'''\n",
    "output of our model is :\n",
    "x1, y1,\n",
    "x2, y2,\n",
    "x3, y3,\n",
    "x4, y4,\n",
    "conf -> only when no bounding box images are taken\n",
    "'''\n",
    "num_feature = model.fc.in_features\n",
    "num_output = 8#9\n",
    "model.fc = nn.Linear(num_feature, num_output)\n",
    "# model.eval()\n",
    "# model.train()\n",
    "model = model.cpu()"
   ]
  },
  {
   "cell_type": "code",
   "execution_count": 15,
   "metadata": {
    "colab": {},
    "colab_type": "code",
    "id": "XczjvxsXKHyU"
   },
   "outputs": [
    {
     "data": {
      "text/plain": [
       "IncompatibleKeys(missing_keys=[], unexpected_keys=[])"
      ]
     },
     "execution_count": 15,
     "metadata": {},
     "output_type": "execute_result"
    }
   ],
   "source": [
    "model.load_state_dict(torch.load('saved_states/model_state_v0.pth', map_location='cpu'))"
   ]
  },
  {
   "cell_type": "code",
   "execution_count": 0,
   "metadata": {
    "colab": {},
    "colab_type": "code",
    "id": "VteKJnm3KHyO"
   },
   "outputs": [],
   "source": [
    "# criterion = nn.SmoothL1Loss().cuda()\n",
    "\n",
    "# optimizer = torch.optim.Adam(model.parameters(), lr=1e-3)\n",
    "# scheduler = lr_scheduler.StepLR(optimizer, step_size=5, gamma=0.1)"
   ]
  },
  {
   "cell_type": "code",
   "execution_count": 0,
   "metadata": {
    "colab": {},
    "colab_type": "code",
    "id": "mVAZoY1gKHyR"
   },
   "outputs": [],
   "source": [
    "# best_model_state = model.state_dict()\n",
    "# best_epoch = -1\n",
    "# best_acc = 0.0\n",
    "\n",
    "# epoch_loss = {True: [], False: []}\n",
    "# epoch_acc = {True: [], False: []}\n",
    "# epochs = 20"
   ]
  },
  {
   "cell_type": "code",
   "execution_count": 20,
   "metadata": {
    "colab": {
     "base_uri": "https://localhost:8080/",
     "height": 1717
    },
    "colab_type": "code",
    "id": "gkhuk8mCKHyW",
    "outputId": "0575545e-1bff-431e-d26d-80d2db94e8b9"
   },
   "outputs": [
    {
     "name": "stderr",
     "output_type": "stream",
     "text": [
      "100% (157 of 157) |######################| Elapsed Time: 0:01:06 Time:  0:01:06\n"
     ]
    },
    {
     "name": "stdout",
     "output_type": "stream",
     "text": [
      "[True]\tEpoch: 1/20\tLoss: 80.0493\tAcc: 0.00%\tTime: 67.981\n"
     ]
    },
    {
     "name": "stderr",
     "output_type": "stream",
     "text": [
      "100% (18 of 18) |########################| Elapsed Time: 0:00:06 Time:  0:00:06\n"
     ]
    },
    {
     "name": "stdout",
     "output_type": "stream",
     "text": [
      "[False]\tEpoch: 1/20\tLoss: 74.2954\tAcc: 0.00%\tTime: 7.327\n",
      "[Info] best test acc: 0.00% at -1th epoch\n"
     ]
    },
    {
     "name": "stderr",
     "output_type": "stream",
     "text": [
      "100% (157 of 157) |######################| Elapsed Time: 0:01:06 Time:  0:01:06\n"
     ]
    },
    {
     "name": "stdout",
     "output_type": "stream",
     "text": [
      "[True]\tEpoch: 2/20\tLoss: 8.8320\tAcc: 0.00%\tTime: 66.926\n"
     ]
    },
    {
     "name": "stderr",
     "output_type": "stream",
     "text": [
      "100% (18 of 18) |########################| Elapsed Time: 0:00:06 Time:  0:00:06\n"
     ]
    },
    {
     "name": "stdout",
     "output_type": "stream",
     "text": [
      "[False]\tEpoch: 2/20\tLoss: 8.4276\tAcc: 0.00%\tTime: 7.136\n",
      "[Info] best test acc: 0.00% at -1th epoch\n"
     ]
    },
    {
     "name": "stderr",
     "output_type": "stream",
     "text": [
      "100% (157 of 157) |######################| Elapsed Time: 0:01:06 Time:  0:01:06\n"
     ]
    },
    {
     "name": "stdout",
     "output_type": "stream",
     "text": [
      "[True]\tEpoch: 3/20\tLoss: 4.5958\tAcc: 0.00%\tTime: 67.448\n"
     ]
    },
    {
     "name": "stderr",
     "output_type": "stream",
     "text": [
      "100% (18 of 18) |########################| Elapsed Time: 0:00:06 Time:  0:00:06\n"
     ]
    },
    {
     "name": "stdout",
     "output_type": "stream",
     "text": [
      "[False]\tEpoch: 3/20\tLoss: 4.5290\tAcc: 0.00%\tTime: 7.055\n",
      "[Info] best test acc: 0.00% at -1th epoch\n"
     ]
    },
    {
     "name": "stderr",
     "output_type": "stream",
     "text": [
      "100% (157 of 157) |######################| Elapsed Time: 0:01:08 Time:  0:01:08\n"
     ]
    },
    {
     "name": "stdout",
     "output_type": "stream",
     "text": [
      "[True]\tEpoch: 4/20\tLoss: 3.4319\tAcc: 0.00%\tTime: 69.837\n"
     ]
    },
    {
     "name": "stderr",
     "output_type": "stream",
     "text": [
      "100% (18 of 18) |########################| Elapsed Time: 0:00:06 Time:  0:00:06\n"
     ]
    },
    {
     "name": "stdout",
     "output_type": "stream",
     "text": [
      "[False]\tEpoch: 4/20\tLoss: 3.3529\tAcc: 0.00%\tTime: 7.347\n",
      "[Info] best test acc: 0.00% at -1th epoch\n"
     ]
    },
    {
     "name": "stderr",
     "output_type": "stream",
     "text": [
      "100% (157 of 157) |######################| Elapsed Time: 0:01:06 Time:  0:01:06\n"
     ]
    },
    {
     "name": "stdout",
     "output_type": "stream",
     "text": [
      "[True]\tEpoch: 5/20\tLoss: 2.7296\tAcc: 0.00%\tTime: 67.058\n"
     ]
    },
    {
     "name": "stderr",
     "output_type": "stream",
     "text": [
      "100% (18 of 18) |########################| Elapsed Time: 0:00:06 Time:  0:00:06\n"
     ]
    },
    {
     "name": "stdout",
     "output_type": "stream",
     "text": [
      "[False]\tEpoch: 5/20\tLoss: 2.5953\tAcc: 0.00%\tTime: 7.027\n",
      "[Info] best test acc: 0.00% at -1th epoch\n"
     ]
    },
    {
     "name": "stderr",
     "output_type": "stream",
     "text": [
      "100% (157 of 157) |######################| Elapsed Time: 0:01:04 Time:  0:01:04\n"
     ]
    },
    {
     "name": "stdout",
     "output_type": "stream",
     "text": [
      "[True]\tEpoch: 6/20\tLoss: 2.4654\tAcc: 0.00%\tTime: 65.054\n"
     ]
    },
    {
     "name": "stderr",
     "output_type": "stream",
     "text": [
      "100% (18 of 18) |########################| Elapsed Time: 0:00:06 Time:  0:00:06\n"
     ]
    },
    {
     "name": "stdout",
     "output_type": "stream",
     "text": [
      "[False]\tEpoch: 6/20\tLoss: 2.3599\tAcc: 0.00%\tTime: 6.855\n",
      "[Info] best test acc: 0.00% at -1th epoch\n"
     ]
    },
    {
     "name": "stderr",
     "output_type": "stream",
     "text": [
      "100% (157 of 157) |######################| Elapsed Time: 0:01:03 Time:  0:01:03\n"
     ]
    },
    {
     "name": "stdout",
     "output_type": "stream",
     "text": [
      "[True]\tEpoch: 7/20\tLoss: 2.5389\tAcc: 0.00%\tTime: 64.936\n"
     ]
    },
    {
     "name": "stderr",
     "output_type": "stream",
     "text": [
      "100% (18 of 18) |########################| Elapsed Time: 0:00:05 Time:  0:00:05\n"
     ]
    },
    {
     "name": "stdout",
     "output_type": "stream",
     "text": [
      "[False]\tEpoch: 7/20\tLoss: 2.4191\tAcc: 0.00%\tTime: 6.727\n",
      "[Info] best test acc: 0.00% at -1th epoch\n"
     ]
    },
    {
     "name": "stderr",
     "output_type": "stream",
     "text": [
      "100% (157 of 157) |######################| Elapsed Time: 0:01:03 Time:  0:01:03\n"
     ]
    },
    {
     "name": "stdout",
     "output_type": "stream",
     "text": [
      "[True]\tEpoch: 8/20\tLoss: 2.2717\tAcc: 0.00%\tTime: 64.731\n"
     ]
    },
    {
     "name": "stderr",
     "output_type": "stream",
     "text": [
      "100% (18 of 18) |########################| Elapsed Time: 0:00:05 Time:  0:00:05\n"
     ]
    },
    {
     "name": "stdout",
     "output_type": "stream",
     "text": [
      "[False]\tEpoch: 8/20\tLoss: 2.1710\tAcc: 0.00%\tTime: 6.670\n",
      "[Info] best test acc: 0.00% at -1th epoch\n"
     ]
    },
    {
     "name": "stderr",
     "output_type": "stream",
     "text": [
      "100% (157 of 157) |######################| Elapsed Time: 0:01:06 Time:  0:01:06\n"
     ]
    },
    {
     "name": "stdout",
     "output_type": "stream",
     "text": [
      "[True]\tEpoch: 9/20\tLoss: 2.1630\tAcc: 0.00%\tTime: 67.425\n"
     ]
    },
    {
     "name": "stderr",
     "output_type": "stream",
     "text": [
      "100% (18 of 18) |########################| Elapsed Time: 0:00:06 Time:  0:00:06\n"
     ]
    },
    {
     "name": "stdout",
     "output_type": "stream",
     "text": [
      "[False]\tEpoch: 9/20\tLoss: 2.0638\tAcc: 0.00%\tTime: 7.167\n",
      "[Info] best test acc: 0.00% at -1th epoch\n"
     ]
    },
    {
     "name": "stderr",
     "output_type": "stream",
     "text": [
      "100% (157 of 157) |######################| Elapsed Time: 0:01:06 Time:  0:01:06\n"
     ]
    },
    {
     "name": "stdout",
     "output_type": "stream",
     "text": [
      "[True]\tEpoch: 10/20\tLoss: 2.1572\tAcc: 0.00%\tTime: 67.895\n"
     ]
    },
    {
     "name": "stderr",
     "output_type": "stream",
     "text": [
      "100% (18 of 18) |########################| Elapsed Time: 0:00:06 Time:  0:00:06\n"
     ]
    },
    {
     "name": "stdout",
     "output_type": "stream",
     "text": [
      "[False]\tEpoch: 10/20\tLoss: 2.0601\tAcc: 0.00%\tTime: 7.187\n",
      "[Info] best test acc: 0.00% at -1th epoch\n"
     ]
    },
    {
     "name": "stderr",
     "output_type": "stream",
     "text": [
      "100% (157 of 157) |######################| Elapsed Time: 0:01:06 Time:  0:01:06\n"
     ]
    },
    {
     "name": "stdout",
     "output_type": "stream",
     "text": [
      "[True]\tEpoch: 11/20\tLoss: 2.1516\tAcc: 0.00%\tTime: 67.385\n"
     ]
    },
    {
     "name": "stderr",
     "output_type": "stream",
     "text": [
      "100% (18 of 18) |########################| Elapsed Time: 0:00:06 Time:  0:00:06\n"
     ]
    },
    {
     "name": "stdout",
     "output_type": "stream",
     "text": [
      "[False]\tEpoch: 11/20\tLoss: 2.0609\tAcc: 0.00%\tTime: 7.413\n",
      "[Info] best test acc: 0.00% at -1th epoch\n"
     ]
    },
    {
     "name": "stderr",
     "output_type": "stream",
     "text": [
      "100% (157 of 157) |######################| Elapsed Time: 0:01:07 Time:  0:01:07\n"
     ]
    },
    {
     "name": "stdout",
     "output_type": "stream",
     "text": [
      "[True]\tEpoch: 12/20\tLoss: 2.0907\tAcc: 0.00%\tTime: 68.917\n"
     ]
    },
    {
     "name": "stderr",
     "output_type": "stream",
     "text": [
      "100% (18 of 18) |########################| Elapsed Time: 0:00:06 Time:  0:00:06\n"
     ]
    },
    {
     "name": "stdout",
     "output_type": "stream",
     "text": [
      "[False]\tEpoch: 12/20\tLoss: 1.9911\tAcc: 0.00%\tTime: 7.304\n",
      "[Info] best test acc: 0.00% at -1th epoch\n"
     ]
    },
    {
     "name": "stderr",
     "output_type": "stream",
     "text": [
      "100% (157 of 157) |######################| Elapsed Time: 0:01:09 Time:  0:01:09\n"
     ]
    },
    {
     "name": "stdout",
     "output_type": "stream",
     "text": [
      "[True]\tEpoch: 13/20\tLoss: 2.1189\tAcc: 0.00%\tTime: 70.415\n"
     ]
    },
    {
     "name": "stderr",
     "output_type": "stream",
     "text": [
      "100% (18 of 18) |########################| Elapsed Time: 0:00:06 Time:  0:00:06\n"
     ]
    },
    {
     "name": "stdout",
     "output_type": "stream",
     "text": [
      "[False]\tEpoch: 13/20\tLoss: 2.0820\tAcc: 0.00%\tTime: 7.341\n",
      "[Info] best test acc: 0.00% at -1th epoch\n"
     ]
    },
    {
     "name": "stderr",
     "output_type": "stream",
     "text": [
      "100% (157 of 157) |######################| Elapsed Time: 0:01:08 Time:  0:01:08\n"
     ]
    },
    {
     "name": "stdout",
     "output_type": "stream",
     "text": [
      "[True]\tEpoch: 14/20\tLoss: 2.2654\tAcc: 0.00%\tTime: 69.468\n"
     ]
    },
    {
     "name": "stderr",
     "output_type": "stream",
     "text": [
      "100% (18 of 18) |########################| Elapsed Time: 0:00:06 Time:  0:00:06\n"
     ]
    },
    {
     "name": "stdout",
     "output_type": "stream",
     "text": [
      "[False]\tEpoch: 14/20\tLoss: 2.1467\tAcc: 0.00%\tTime: 7.366\n",
      "[Info] best test acc: 0.00% at -1th epoch\n"
     ]
    },
    {
     "name": "stderr",
     "output_type": "stream",
     "text": [
      "100% (157 of 157) |######################| Elapsed Time: 0:01:09 Time:  0:01:09\n"
     ]
    },
    {
     "name": "stdout",
     "output_type": "stream",
     "text": [
      "[True]\tEpoch: 15/20\tLoss: 2.0918\tAcc: 0.00%\tTime: 70.042\n"
     ]
    },
    {
     "name": "stderr",
     "output_type": "stream",
     "text": [
      "100% (18 of 18) |########################| Elapsed Time: 0:00:06 Time:  0:00:06\n"
     ]
    },
    {
     "name": "stdout",
     "output_type": "stream",
     "text": [
      "[False]\tEpoch: 15/20\tLoss: 1.9907\tAcc: 0.00%\tTime: 7.392\n",
      "[Info] best test acc: 0.00% at -1th epoch\n"
     ]
    },
    {
     "name": "stderr",
     "output_type": "stream",
     "text": [
      "100% (157 of 157) |######################| Elapsed Time: 0:01:09 Time:  0:01:09\n"
     ]
    },
    {
     "name": "stdout",
     "output_type": "stream",
     "text": [
      "[True]\tEpoch: 16/20\tLoss: 2.1184\tAcc: 0.00%\tTime: 70.832\n"
     ]
    },
    {
     "name": "stderr",
     "output_type": "stream",
     "text": [
      "100% (18 of 18) |########################| Elapsed Time: 0:00:06 Time:  0:00:06\n"
     ]
    },
    {
     "name": "stdout",
     "output_type": "stream",
     "text": [
      "[False]\tEpoch: 16/20\tLoss: 2.0148\tAcc: 0.00%\tTime: 7.503\n",
      "[Info] best test acc: 0.00% at -1th epoch\n"
     ]
    },
    {
     "name": "stderr",
     "output_type": "stream",
     "text": [
      "100% (157 of 157) |######################| Elapsed Time: 0:01:08 Time:  0:01:08\n"
     ]
    },
    {
     "name": "stdout",
     "output_type": "stream",
     "text": [
      "[True]\tEpoch: 17/20\tLoss: 2.0338\tAcc: 0.00%\tTime: 69.748\n"
     ]
    },
    {
     "name": "stderr",
     "output_type": "stream",
     "text": [
      "100% (18 of 18) |########################| Elapsed Time: 0:00:06 Time:  0:00:06\n"
     ]
    },
    {
     "name": "stdout",
     "output_type": "stream",
     "text": [
      "[False]\tEpoch: 17/20\tLoss: 1.9395\tAcc: 0.00%\tTime: 7.457\n",
      "[Info] best test acc: 0.00% at -1th epoch\n"
     ]
    },
    {
     "name": "stderr",
     "output_type": "stream",
     "text": [
      "100% (157 of 157) |######################| Elapsed Time: 0:01:08 Time:  0:01:08\n"
     ]
    },
    {
     "name": "stdout",
     "output_type": "stream",
     "text": [
      "[True]\tEpoch: 18/20\tLoss: 2.0723\tAcc: 0.00%\tTime: 69.271\n"
     ]
    },
    {
     "name": "stderr",
     "output_type": "stream",
     "text": [
      "100% (18 of 18) |########################| Elapsed Time: 0:00:06 Time:  0:00:06\n"
     ]
    },
    {
     "name": "stdout",
     "output_type": "stream",
     "text": [
      "[False]\tEpoch: 18/20\tLoss: 1.9888\tAcc: 0.00%\tTime: 7.334\n",
      "[Info] best test acc: 0.00% at -1th epoch\n"
     ]
    },
    {
     "name": "stderr",
     "output_type": "stream",
     "text": [
      "100% (157 of 157) |######################| Elapsed Time: 0:01:09 Time:  0:01:09\n"
     ]
    },
    {
     "name": "stdout",
     "output_type": "stream",
     "text": [
      "[True]\tEpoch: 19/20\tLoss: 2.0758\tAcc: 0.00%\tTime: 70.026\n"
     ]
    },
    {
     "name": "stderr",
     "output_type": "stream",
     "text": [
      "100% (18 of 18) |########################| Elapsed Time: 0:00:06 Time:  0:00:06\n"
     ]
    },
    {
     "name": "stdout",
     "output_type": "stream",
     "text": [
      "[False]\tEpoch: 19/20\tLoss: 1.9820\tAcc: 0.00%\tTime: 7.380\n",
      "[Info] best test acc: 0.00% at -1th epoch\n"
     ]
    },
    {
     "name": "stderr",
     "output_type": "stream",
     "text": [
      "100% (157 of 157) |######################| Elapsed Time: 0:01:08 Time:  0:01:08\n"
     ]
    },
    {
     "name": "stdout",
     "output_type": "stream",
     "text": [
      "[True]\tEpoch: 20/20\tLoss: 2.1165\tAcc: 0.00%\tTime: 69.468\n"
     ]
    },
    {
     "name": "stderr",
     "output_type": "stream",
     "text": [
      "100% (18 of 18) |########################| Elapsed Time: 0:00:06 Time:  0:00:06\n"
     ]
    },
    {
     "name": "stdout",
     "output_type": "stream",
     "text": [
      "[False]\tEpoch: 20/20\tLoss: 2.0180\tAcc: 0.00%\tTime: 7.539\n",
      "[Info] best test acc: 0.00% at -1th epoch\n"
     ]
    }
   ],
   "source": [
    "# for epoch in range(epochs):\n",
    "#     accs = AverageMeter()\n",
    "#     losses = AverageMeter()\n",
    "#     for train_mode in (True, False):\n",
    "#         if train_mode:\n",
    "#             scheduler.step()\n",
    "#             data_loader = train_loader\n",
    "#         else:\n",
    "#             data_loader = test_loader\n",
    "#         model.train(mode=train_mode)\n",
    "            \n",
    "#         end = time.time()\n",
    "#         bar = progressbar.ProgressBar()\n",
    "#         for ims, boxes in bar(data_loader):\n",
    "            \n",
    "#             inputs = ims.cuda()\n",
    "#             targets = boxes.cuda()\n",
    "            \n",
    "#             optimizer.zero_grad()\n",
    "            \n",
    "#             # forward\n",
    "#             outputs = model(inputs)\n",
    "#             loss = criterion(outputs, targets)\n",
    "# #             acc = compute_acc(outputs.data.cpu(), targets.data.cpu(), im_sizes)\n",
    "            \n",
    "#             nsample = inputs.size(0)\n",
    "# #             accs.update(acc, nsample)\n",
    "#             losses.update(loss.data, nsample)\n",
    "            \n",
    "#             if train_mode:\n",
    "#                 loss.backward()\n",
    "#                 optimizer.step()\n",
    "        \n",
    "# #         if not train_mode and accs.avg > best_acc:\n",
    "# #             best_acc = accs.avg\n",
    "# #             best_epoch = epoch\n",
    "# #             best_model_state = model.state_dict()\n",
    "            \n",
    "#         elapsed_time = time.time() - end\n",
    "#         print('[{}]\\tEpoch: {}/{}\\tLoss: {:.4f}\\tAcc: {:.2%}\\tTime: {:.3f}'.format(\n",
    "#             train_mode, epoch+1, epochs, losses.avg, accs.avg, elapsed_time))\n",
    "#         epoch_loss[train_mode].append(losses.avg)\n",
    "#         epoch_acc[train_mode].append(accs.avg)\n",
    "        \n",
    "#     print('[Info] best test acc: {:.2%} at {}th epoch'.format(best_acc, best_epoch))\n",
    "#     torch.save(model.state_dict(), 'saved_states/model_state_v0.pth')"
   ]
  },
  {
   "cell_type": "code",
   "execution_count": 16,
   "metadata": {
    "colab": {
     "base_uri": "https://localhost:8080/",
     "height": 34
    },
    "colab_type": "code",
    "id": "aRB_bJN6U7Z0",
    "outputId": "500da7d5-7089-444c-90dd-7d788dc457a6"
   },
   "outputs": [
    {
     "name": "stdout",
     "output_type": "stream",
     "text": [
      "Working in test mode\n"
     ]
    }
   ],
   "source": [
    "test_batch = 0\n",
    "indx = -1\n",
    "model.eval()\n",
    "print('Working in test mode')"
   ]
  },
  {
   "cell_type": "code",
   "execution_count": 115,
   "metadata": {
    "colab": {
     "base_uri": "https://localhost:8080/",
     "height": 503
    },
    "colab_type": "code",
    "id": "1i-BSsbTTfuW",
    "outputId": "bd7bb399-5891-4490-98c5-ad5b02964ab0"
   },
   "outputs": [
    {
     "name": "stdout",
     "output_type": "stream",
     "text": [
      "2\n"
     ]
    },
    {
     "data": {
      "image/png": "[encoded data removed]",
      "text/plain": [
       "<Figure size 576x576 with 1 Axes>"
      ]
     },
     "metadata": {
      "needs_background": "light"
     },
     "output_type": "display_data"
    }
   ],
   "source": [
    "if indx < 0:\n",
    "  # model.train(mode=False)\n",
    "  for i,(ims, boxes) in enumerate(test_loader):\n",
    "    if i<test_batch:\n",
    "      continue\n",
    "    inputs = ims.cpu()\n",
    "    targets = boxes.cpu()\n",
    "    outputs = model(inputs)\n",
    "    test_batch +=1\n",
    "    break\n",
    "    \n",
    "indx +=1\n",
    "img = inputs[indx].data.cpu()\n",
    "img = FinalTransform().transform_inv(img)\n",
    "out = outputs[indx].data.cpu().numpy()\n",
    "out = np.append(out, out[:2]).reshape(-1,2)\n",
    "targ = targets[indx].data.cpu().numpy()\n",
    "targ = np.append(targ, targ[:2]).reshape(-1,2)\n",
    "\n",
    "\n",
    "plt.figure(figsize=(8, 8))\n",
    "plt.imshow(img)\n",
    "plt.plot(targ[:,0], targ[:,1], lw=3, c='g')\n",
    "plt.plot(out[:,0], out[:,1], lw=3, c='r')\n",
    "print(indx)\n",
    "if indx == 31:\n",
    "  indx = -1"
   ]
  },
  {
   "cell_type": "code",
   "execution_count": 0,
   "metadata": {
    "colab": {},
    "colab_type": "code",
    "id": "jC0m718jgs_F"
   },
   "outputs": [],
   "source": [
    "# model_state = model.state_dict()\n",
    "# torch.save(model_state, 'saved_states/model_state_v0.pth')\n",
    "# # optimizer_state = optimizer.state_dict()\n",
    "# # torch.save(optimizer_state, 'saved_states/optimizer_state_v0.pth')\n",
    "# # model.load_state_dict(torch.load('saved_states/model_state_v0.pth'))"
   ]
  },
  {
   "cell_type": "code",
   "execution_count": 0,
   "metadata": {
    "colab": {},
    "colab_type": "code",
    "id": "QZDh9D0UOFG2"
   },
   "outputs": [],
   "source": []
  }
 ],
 "metadata": {
  "accelerator": "GPU",
  "colab": {
   "collapsed_sections": [],
   "name": "Localization_Model_v0.ipynb",
   "provenance": [],
   "version": "0.3.2"
  },
  "kernelspec": {
   "display_name": "Python 3",
   "language": "python",
   "name": "python3"
  },
  "language_info": {
   "codemirror_mode": {
    "name": "ipython",
    "version": 3
   },
   "file_extension": ".py",
   "mimetype": "text/x-python",
   "name": "python",
   "nbconvert_exporter": "python",
   "pygments_lexer": "ipython3",
   "version": "3.7.3"
  }
 },
 "nbformat": 4,
 "nbformat_minor": 1
}
